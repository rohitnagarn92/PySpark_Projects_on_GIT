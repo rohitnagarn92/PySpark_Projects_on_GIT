{
  "cells": [
    {
      "cell_type": "code",
      "source": [
        "!pip install pyspark findspark\n",
        "import findspark\n",
        "findspark.init()\n"
      ],
      "metadata": {
        "colab": {
          "base_uri": "https://localhost:8080/"
        },
        "id": "6wZCzaBBjI4F",
        "outputId": "3a397343-032e-4aab-b65a-884dda759349"
      },
      "execution_count": 2,
      "outputs": [
        {
          "output_type": "stream",
          "name": "stdout",
          "text": [
            "Collecting pyspark\n",
            "  Downloading pyspark-3.5.2.tar.gz (317.3 MB)\n",
            "\u001b[2K     \u001b[90m━━━━━━━━━━━━━━━━━━━━━━━━━━━━━━━━━━━━━━━━\u001b[0m \u001b[32m317.3/317.3 MB\u001b[0m \u001b[31m4.1 MB/s\u001b[0m eta \u001b[36m0:00:00\u001b[0m\n",
            "\u001b[?25h  Preparing metadata (setup.py) ... \u001b[?25l\u001b[?25hdone\n",
            "Collecting findspark\n",
            "  Downloading findspark-2.0.1-py2.py3-none-any.whl.metadata (352 bytes)\n",
            "Requirement already satisfied: py4j==0.10.9.7 in /usr/local/lib/python3.10/dist-packages (from pyspark) (0.10.9.7)\n",
            "Downloading findspark-2.0.1-py2.py3-none-any.whl (4.4 kB)\n",
            "Building wheels for collected packages: pyspark\n",
            "  Building wheel for pyspark (setup.py) ... \u001b[?25l\u001b[?25hdone\n",
            "  Created wheel for pyspark: filename=pyspark-3.5.2-py2.py3-none-any.whl size=317812365 sha256=b99a517ddf781f0077f3590d40b50992cc3b288b02600b8ff3d4d59ae502f2fb\n",
            "  Stored in directory: /root/.cache/pip/wheels/34/34/bd/03944534c44b677cd5859f248090daa9fb27b3c8f8e5f49574\n",
            "Successfully built pyspark\n",
            "Installing collected packages: findspark, pyspark\n",
            "Successfully installed findspark-2.0.1 pyspark-3.5.2\n"
          ]
        }
      ]
    },
    {
      "cell_type": "code",
      "source": [
        "from pyspark.sql.functions import expr,col,isnan,when,count,regexp_replace,sum\n",
        "from pyspark.sql.types import IntegerType,DoubleType,StringType\n",
        "from pyspark.sql import SparkSession\n",
        "spark = SparkSession.builder.appName(\"google_playstore_project\").getOrCreate()"
      ],
      "metadata": {
        "id": "8wuxjUAGiwus"
      },
      "execution_count": 44,
      "outputs": []
    },
    {
      "cell_type": "code",
      "source": [
        "from google.colab import files\n",
        "uploaded = files.upload()\n"
      ],
      "metadata": {
        "colab": {
          "base_uri": "https://localhost:8080/",
          "height": 73
        },
        "id": "ggYpkIUGjvI4",
        "outputId": "faf67b53-6454-416f-cdb5-4ce172188424"
      },
      "execution_count": 4,
      "outputs": [
        {
          "output_type": "display_data",
          "data": {
            "text/plain": [
              "<IPython.core.display.HTML object>"
            ],
            "text/html": [
              "\n",
              "     <input type=\"file\" id=\"files-4c85b883-52cc-423c-be76-edd88befb345\" name=\"files[]\" multiple disabled\n",
              "        style=\"border:none\" />\n",
              "     <output id=\"result-4c85b883-52cc-423c-be76-edd88befb345\">\n",
              "      Upload widget is only available when the cell has been executed in the\n",
              "      current browser session. Please rerun this cell to enable.\n",
              "      </output>\n",
              "      <script>// Copyright 2017 Google LLC\n",
              "//\n",
              "// Licensed under the Apache License, Version 2.0 (the \"License\");\n",
              "// you may not use this file except in compliance with the License.\n",
              "// You may obtain a copy of the License at\n",
              "//\n",
              "//      http://www.apache.org/licenses/LICENSE-2.0\n",
              "//\n",
              "// Unless required by applicable law or agreed to in writing, software\n",
              "// distributed under the License is distributed on an \"AS IS\" BASIS,\n",
              "// WITHOUT WARRANTIES OR CONDITIONS OF ANY KIND, either express or implied.\n",
              "// See the License for the specific language governing permissions and\n",
              "// limitations under the License.\n",
              "\n",
              "/**\n",
              " * @fileoverview Helpers for google.colab Python module.\n",
              " */\n",
              "(function(scope) {\n",
              "function span(text, styleAttributes = {}) {\n",
              "  const element = document.createElement('span');\n",
              "  element.textContent = text;\n",
              "  for (const key of Object.keys(styleAttributes)) {\n",
              "    element.style[key] = styleAttributes[key];\n",
              "  }\n",
              "  return element;\n",
              "}\n",
              "\n",
              "// Max number of bytes which will be uploaded at a time.\n",
              "const MAX_PAYLOAD_SIZE = 100 * 1024;\n",
              "\n",
              "function _uploadFiles(inputId, outputId) {\n",
              "  const steps = uploadFilesStep(inputId, outputId);\n",
              "  const outputElement = document.getElementById(outputId);\n",
              "  // Cache steps on the outputElement to make it available for the next call\n",
              "  // to uploadFilesContinue from Python.\n",
              "  outputElement.steps = steps;\n",
              "\n",
              "  return _uploadFilesContinue(outputId);\n",
              "}\n",
              "\n",
              "// This is roughly an async generator (not supported in the browser yet),\n",
              "// where there are multiple asynchronous steps and the Python side is going\n",
              "// to poll for completion of each step.\n",
              "// This uses a Promise to block the python side on completion of each step,\n",
              "// then passes the result of the previous step as the input to the next step.\n",
              "function _uploadFilesContinue(outputId) {\n",
              "  const outputElement = document.getElementById(outputId);\n",
              "  const steps = outputElement.steps;\n",
              "\n",
              "  const next = steps.next(outputElement.lastPromiseValue);\n",
              "  return Promise.resolve(next.value.promise).then((value) => {\n",
              "    // Cache the last promise value to make it available to the next\n",
              "    // step of the generator.\n",
              "    outputElement.lastPromiseValue = value;\n",
              "    return next.value.response;\n",
              "  });\n",
              "}\n",
              "\n",
              "/**\n",
              " * Generator function which is called between each async step of the upload\n",
              " * process.\n",
              " * @param {string} inputId Element ID of the input file picker element.\n",
              " * @param {string} outputId Element ID of the output display.\n",
              " * @return {!Iterable<!Object>} Iterable of next steps.\n",
              " */\n",
              "function* uploadFilesStep(inputId, outputId) {\n",
              "  const inputElement = document.getElementById(inputId);\n",
              "  inputElement.disabled = false;\n",
              "\n",
              "  const outputElement = document.getElementById(outputId);\n",
              "  outputElement.innerHTML = '';\n",
              "\n",
              "  const pickedPromise = new Promise((resolve) => {\n",
              "    inputElement.addEventListener('change', (e) => {\n",
              "      resolve(e.target.files);\n",
              "    });\n",
              "  });\n",
              "\n",
              "  const cancel = document.createElement('button');\n",
              "  inputElement.parentElement.appendChild(cancel);\n",
              "  cancel.textContent = 'Cancel upload';\n",
              "  const cancelPromise = new Promise((resolve) => {\n",
              "    cancel.onclick = () => {\n",
              "      resolve(null);\n",
              "    };\n",
              "  });\n",
              "\n",
              "  // Wait for the user to pick the files.\n",
              "  const files = yield {\n",
              "    promise: Promise.race([pickedPromise, cancelPromise]),\n",
              "    response: {\n",
              "      action: 'starting',\n",
              "    }\n",
              "  };\n",
              "\n",
              "  cancel.remove();\n",
              "\n",
              "  // Disable the input element since further picks are not allowed.\n",
              "  inputElement.disabled = true;\n",
              "\n",
              "  if (!files) {\n",
              "    return {\n",
              "      response: {\n",
              "        action: 'complete',\n",
              "      }\n",
              "    };\n",
              "  }\n",
              "\n",
              "  for (const file of files) {\n",
              "    const li = document.createElement('li');\n",
              "    li.append(span(file.name, {fontWeight: 'bold'}));\n",
              "    li.append(span(\n",
              "        `(${file.type || 'n/a'}) - ${file.size} bytes, ` +\n",
              "        `last modified: ${\n",
              "            file.lastModifiedDate ? file.lastModifiedDate.toLocaleDateString() :\n",
              "                                    'n/a'} - `));\n",
              "    const percent = span('0% done');\n",
              "    li.appendChild(percent);\n",
              "\n",
              "    outputElement.appendChild(li);\n",
              "\n",
              "    const fileDataPromise = new Promise((resolve) => {\n",
              "      const reader = new FileReader();\n",
              "      reader.onload = (e) => {\n",
              "        resolve(e.target.result);\n",
              "      };\n",
              "      reader.readAsArrayBuffer(file);\n",
              "    });\n",
              "    // Wait for the data to be ready.\n",
              "    let fileData = yield {\n",
              "      promise: fileDataPromise,\n",
              "      response: {\n",
              "        action: 'continue',\n",
              "      }\n",
              "    };\n",
              "\n",
              "    // Use a chunked sending to avoid message size limits. See b/62115660.\n",
              "    let position = 0;\n",
              "    do {\n",
              "      const length = Math.min(fileData.byteLength - position, MAX_PAYLOAD_SIZE);\n",
              "      const chunk = new Uint8Array(fileData, position, length);\n",
              "      position += length;\n",
              "\n",
              "      const base64 = btoa(String.fromCharCode.apply(null, chunk));\n",
              "      yield {\n",
              "        response: {\n",
              "          action: 'append',\n",
              "          file: file.name,\n",
              "          data: base64,\n",
              "        },\n",
              "      };\n",
              "\n",
              "      let percentDone = fileData.byteLength === 0 ?\n",
              "          100 :\n",
              "          Math.round((position / fileData.byteLength) * 100);\n",
              "      percent.textContent = `${percentDone}% done`;\n",
              "\n",
              "    } while (position < fileData.byteLength);\n",
              "  }\n",
              "\n",
              "  // All done.\n",
              "  yield {\n",
              "    response: {\n",
              "      action: 'complete',\n",
              "    }\n",
              "  };\n",
              "}\n",
              "\n",
              "scope.google = scope.google || {};\n",
              "scope.google.colab = scope.google.colab || {};\n",
              "scope.google.colab._files = {\n",
              "  _uploadFiles,\n",
              "  _uploadFilesContinue,\n",
              "};\n",
              "})(self);\n",
              "</script> "
            ]
          },
          "metadata": {}
        },
        {
          "output_type": "stream",
          "name": "stdout",
          "text": [
            "Saving googleplaystore.csv to googleplaystore.csv\n"
          ]
        }
      ]
    },
    {
      "cell_type": "code",
      "source": [
        "file_name = list(uploaded.keys())[0]\n",
        "\n",
        "# Read the CSV file using PySpark\n",
        "playstore_df = spark.read.csv(file_name, header=True, inferSchema=True)\n",
        "\n",
        "# Display the data (use show() instead of display)\n",
        "playstore_df.show(2)"
      ],
      "metadata": {
        "colab": {
          "base_uri": "https://localhost:8080/"
        },
        "id": "iZ_VtmqIkUzB",
        "outputId": "e0135a08-d807-4ec0-e123-5c652824fab8"
      },
      "execution_count": 5,
      "outputs": [
        {
          "output_type": "stream",
          "name": "stdout",
          "text": [
            "+--------------------+--------------+------+-------+----+--------+----+-----+--------------+--------------------+----------------+-----------+------------+\n",
            "|                 App|      Category|Rating|Reviews|Size|Installs|Type|Price|Content Rating|              Genres|    Last Updated|Current Ver| Android Ver|\n",
            "+--------------------+--------------+------+-------+----+--------+----+-----+--------------+--------------------+----------------+-----------+------------+\n",
            "|Photo Editor & Ca...|ART_AND_DESIGN|   4.1|    159| 19M| 10,000+|Free|    0|      Everyone|        Art & Design| January 7, 2018|      1.0.0|4.0.3 and up|\n",
            "| Coloring book moana|ART_AND_DESIGN|   3.9|    967| 14M|500,000+|Free|    0|      Everyone|Art & Design;Pret...|January 15, 2018|      2.0.0|4.0.3 and up|\n",
            "+--------------------+--------------+------+-------+----+--------+----+-----+--------------+--------------------+----------------+-----------+------------+\n",
            "only showing top 2 rows\n",
            "\n"
          ]
        }
      ]
    },
    {
      "cell_type": "code",
      "source": [
        "playstore_df.printSchema()\n",
        "\n",
        "playstore_df.describe().show(2)"
      ],
      "metadata": {
        "colab": {
          "base_uri": "https://localhost:8080/"
        },
        "id": "mCEqOcselHu_",
        "outputId": "e02a0aae-c222-414d-8b2f-e206183c5ffa"
      },
      "execution_count": 25,
      "outputs": [
        {
          "output_type": "stream",
          "name": "stdout",
          "text": [
            "root\n",
            " |-- App: string (nullable = true)\n",
            " |-- Category: string (nullable = true)\n",
            " |-- Rating: string (nullable = true)\n",
            " |-- Reviews: string (nullable = true)\n",
            " |-- Size: string (nullable = true)\n",
            " |-- Installs: string (nullable = true)\n",
            " |-- Type: string (nullable = true)\n",
            " |-- Price: string (nullable = true)\n",
            " |-- Content Rating: string (nullable = true)\n",
            " |-- Genres: string (nullable = true)\n",
            " |-- Last Updated: string (nullable = true)\n",
            " |-- Current Ver: string (nullable = true)\n",
            " |-- Android Ver: string (nullable = true)\n",
            "\n",
            "+-------+-----+--------+------+-----------------+-----+-----------------+-----+-----+--------------+------+------------+-----------+-----------+\n",
            "|summary|  App|Category|Rating|          Reviews| Size|         Installs| Type|Price|Content Rating|Genres|Last Updated|Current Ver|Android Ver|\n",
            "+-------+-----+--------+------+-----------------+-----+-----------------+-----+-----+--------------+------+------------+-----------+-----------+\n",
            "|  count|10841|   10841| 10841|            10841|10841|            10841|10841|10841|         10840| 10841|       10841|      10840|      10840|\n",
            "|   mean| NULL|     1.9|   NaN|444225.1924709356| NULL|2.866666666666667|  NaN|  0.0|          NULL|  NULL|         0.0|        NaN|        NaN|\n",
            "+-------+-----+--------+------+-----------------+-----+-----------------+-----+-----+--------------+------+------------+-----------+-----------+\n",
            "only showing top 2 rows\n",
            "\n"
          ]
        }
      ]
    },
    {
      "cell_type": "code",
      "source": [
        "playstore_df1 = playstore_df.drop(\"Size\",\"Content Rating\",\"Last Updated\",\"Current Ver\",\"Android Ver\")"
      ],
      "metadata": {
        "id": "Wi3mPIdhCnQ3"
      },
      "execution_count": 26,
      "outputs": []
    },
    {
      "cell_type": "code",
      "source": [
        "playstore_df1.show(2)"
      ],
      "metadata": {
        "colab": {
          "base_uri": "https://localhost:8080/"
        },
        "id": "pBwf8IjGg-rm",
        "outputId": "93fd6d55-1281-4605-b041-e134ee144c50"
      },
      "execution_count": 27,
      "outputs": [
        {
          "output_type": "stream",
          "name": "stdout",
          "text": [
            "+--------------------+--------------+------+-------+--------+----+-----+--------------------+\n",
            "|                 App|      Category|Rating|Reviews|Installs|Type|Price|              Genres|\n",
            "+--------------------+--------------+------+-------+--------+----+-----+--------------------+\n",
            "|Photo Editor & Ca...|ART_AND_DESIGN|   4.1|    159| 10,000+|Free|    0|        Art & Design|\n",
            "| Coloring book moana|ART_AND_DESIGN|   3.9|    967|500,000+|Free|    0|Art & Design;Pret...|\n",
            "+--------------------+--------------+------+-------+--------+----+-----+--------------------+\n",
            "only showing top 2 rows\n",
            "\n"
          ]
        }
      ]
    },
    {
      "cell_type": "code",
      "source": [
        "playstore_df1.printSchema()"
      ],
      "metadata": {
        "colab": {
          "base_uri": "https://localhost:8080/"
        },
        "id": "FLuJP4ZoiYN8",
        "outputId": "0baa1a62-d160-4422-c296-5747c079c78c"
      },
      "execution_count": 28,
      "outputs": [
        {
          "output_type": "stream",
          "name": "stdout",
          "text": [
            "root\n",
            " |-- App: string (nullable = true)\n",
            " |-- Category: string (nullable = true)\n",
            " |-- Rating: string (nullable = true)\n",
            " |-- Reviews: string (nullable = true)\n",
            " |-- Installs: string (nullable = true)\n",
            " |-- Type: string (nullable = true)\n",
            " |-- Price: string (nullable = true)\n",
            " |-- Genres: string (nullable = true)\n",
            "\n"
          ]
        }
      ]
    },
    {
      "cell_type": "code",
      "source": [
        "playstore_df2 = playstore_df1.withColumn(\"Reviews\",col(\"Reviews\").cast(IntegerType()))\\\n",
        ".withColumn(\"Installs\",regexp_replace(col(\"Installs\"),\"[^0-9]\",\"\"))\\\n",
        ".withColumn(\"Installs\",col(\"Installs\").cast(IntegerType()))\\\n",
        ".withColumn(\"Rating\",col(\"Installs\").cast(DoubleType()))\\\n",
        ".withColumn(\"Price\",regexp_replace(col(\"Price\"),\"[$]\",\"\"))\\\n",
        ".withColumn(\"Price\",(col(\"Price\").cast(IntegerType())))\n",
        "playstore_df2.printSchema()"
      ],
      "metadata": {
        "colab": {
          "base_uri": "https://localhost:8080/"
        },
        "id": "kO5dm2TajL4s",
        "outputId": "5194d8ea-6e51-4e57-e68a-cacd089155b9"
      },
      "execution_count": 55,
      "outputs": [
        {
          "output_type": "stream",
          "name": "stdout",
          "text": [
            "root\n",
            " |-- App: string (nullable = true)\n",
            " |-- Category: string (nullable = true)\n",
            " |-- Rating: double (nullable = true)\n",
            " |-- Reviews: integer (nullable = true)\n",
            " |-- Installs: integer (nullable = true)\n",
            " |-- Type: string (nullable = true)\n",
            " |-- Price: integer (nullable = true)\n",
            " |-- Genres: string (nullable = true)\n",
            "\n"
          ]
        }
      ]
    },
    {
      "cell_type": "code",
      "source": [
        "#handling the missing data\n",
        "playstore_df2.select([count(when(col(c).isNull(), c)).alias(c) for c in playstore_df2.columns]).show()\n",
        "playstore_df2.count()\n"
      ],
      "metadata": {
        "colab": {
          "base_uri": "https://localhost:8080/"
        },
        "id": "2pshd0NVlzp3",
        "outputId": "88f0cec9-c1da-4403-cb7a-bf985f19f2a0"
      },
      "execution_count": 56,
      "outputs": [
        {
          "output_type": "stream",
          "name": "stdout",
          "text": [
            "+---+--------+------+-------+--------+----+-----+------+\n",
            "|App|Category|Rating|Reviews|Installs|Type|Price|Genres|\n",
            "+---+--------+------+-------+--------+----+-----+------+\n",
            "|  0|       0|     1|      3|       1|   0|    3|     0|\n",
            "+---+--------+------+-------+--------+----+-----+------+\n",
            "\n"
          ]
        },
        {
          "output_type": "execute_result",
          "data": {
            "text/plain": [
              "10841"
            ]
          },
          "metadata": {},
          "execution_count": 56
        }
      ]
    },
    {
      "cell_type": "code",
      "source": [
        "#drop the rows that is missing\n",
        "playstore_df2_clean=playstore_df2.dropna()\n",
        "playstore_df2_clean.count()\n",
        "\n"
      ],
      "metadata": {
        "id": "vaLdBQ9UrA4l",
        "colab": {
          "base_uri": "https://localhost:8080/"
        },
        "outputId": "221e4229-4703-4045-c3d6-8dd5f30ddcf4"
      },
      "execution_count": 57,
      "outputs": [
        {
          "output_type": "execute_result",
          "data": {
            "text/plain": [
              "10838"
            ]
          },
          "metadata": {},
          "execution_count": 57
        }
      ]
    },
    {
      "cell_type": "code",
      "source": [
        "#filling specific values to the nan columns or missing columns\n",
        "playstore_df2_filled=playstore_df2.fillna({\"Reviews\":0,\"Rating\":0,\"Price\":0,\"installs\":0})\n",
        "playstore_df2_filled.count()\n",
        "playstore_df2_filled.show(2)"
      ],
      "metadata": {
        "colab": {
          "base_uri": "https://localhost:8080/"
        },
        "id": "HI70M-JoPQB6",
        "outputId": "78b767f4-4b75-4c78-baa7-88b6d416e85a"
      },
      "execution_count": 58,
      "outputs": [
        {
          "output_type": "stream",
          "name": "stdout",
          "text": [
            "+--------------------+--------------+--------+-------+--------+----+-----+--------------------+\n",
            "|                 App|      Category|  Rating|Reviews|Installs|Type|Price|              Genres|\n",
            "+--------------------+--------------+--------+-------+--------+----+-----+--------------------+\n",
            "|Photo Editor & Ca...|ART_AND_DESIGN| 10000.0|    159|   10000|Free|    0|        Art & Design|\n",
            "| Coloring book moana|ART_AND_DESIGN|500000.0|    967|  500000|Free|    0|Art & Design;Pret...|\n",
            "+--------------------+--------------+--------+-------+--------+----+-----+--------------------+\n",
            "only showing top 2 rows\n",
            "\n"
          ]
        }
      ]
    },
    {
      "cell_type": "code",
      "source": [
        "playstore_df2_filled.printSchema()"
      ],
      "metadata": {
        "colab": {
          "base_uri": "https://localhost:8080/"
        },
        "id": "oiq2h0WPTCDp",
        "outputId": "a0a29f31-a03b-42f8-9690-c4f5212636ad"
      },
      "execution_count": 59,
      "outputs": [
        {
          "output_type": "stream",
          "name": "stdout",
          "text": [
            "root\n",
            " |-- App: string (nullable = true)\n",
            " |-- Category: string (nullable = true)\n",
            " |-- Rating: double (nullable = false)\n",
            " |-- Reviews: integer (nullable = false)\n",
            " |-- Installs: integer (nullable = false)\n",
            " |-- Type: string (nullable = true)\n",
            " |-- Price: integer (nullable = false)\n",
            " |-- Genres: string (nullable = true)\n",
            "\n"
          ]
        }
      ]
    },
    {
      "cell_type": "code",
      "source": [
        "from pyspark.sql import functions as F\n",
        "gps_df = playstore_df2_filled.groupBy(\"App\").agg(F.sum(\"Reviews\").alias(\"Total_Reviews\"))\n",
        "gps_df = gps_df.orderBy(F.desc(\"Total_Reviews\"))\n",
        "gps_df.show(10)"
      ],
      "metadata": {
        "colab": {
          "base_uri": "https://localhost:8080/"
        },
        "id": "V5MrEuiDUfhV",
        "outputId": "09b59176-ab77-4d22-e9aa-ffe3f09cb2b5"
      },
      "execution_count": 60,
      "outputs": [
        {
          "output_type": "stream",
          "name": "stdout",
          "text": [
            "+--------------------+-------------+\n",
            "|                 App|Total_Reviews|\n",
            "+--------------------+-------------+\n",
            "|           Instagram|    266241989|\n",
            "|  WhatsApp Messenger|    207348304|\n",
            "|      Clash of Clans|    179558781|\n",
            "|Messenger – Text ...|    169932272|\n",
            "|      Subway Surfers|    166331958|\n",
            "|    Candy Crush Saga|    156993136|\n",
            "|            Facebook|    156286514|\n",
            "|         8 Ball Pool|     99386198|\n",
            "|        Clash Royale|     92530298|\n",
            "|            Snapchat|     68045010|\n",
            "+--------------------+-------------+\n",
            "only showing top 10 rows\n",
            "\n"
          ]
        }
      ]
    },
    {
      "cell_type": "code",
      "source": [
        "from pyspark.sql.functions import expr,col,isnan,when,count,regexp_replace,sum,desc\n",
        "gps_df = playstore_df2_filled.groupBy(\"App\").sum(\"Reviews\")\n",
        "gps_df = gps_df.orderBy(desc(\"sum(Reviews)\"))\n",
        "gps_df.show(10)"
      ],
      "metadata": {
        "colab": {
          "base_uri": "https://localhost:8080/"
        },
        "id": "EKL6OA4aWAUN",
        "outputId": "f40d5fcf-0a98-4b23-f868-3af979e17d2a"
      },
      "execution_count": 61,
      "outputs": [
        {
          "output_type": "stream",
          "name": "stdout",
          "text": [
            "+--------------------+------------+\n",
            "|                 App|sum(Reviews)|\n",
            "+--------------------+------------+\n",
            "|           Instagram|   266241989|\n",
            "|  WhatsApp Messenger|   207348304|\n",
            "|      Clash of Clans|   179558781|\n",
            "|Messenger – Text ...|   169932272|\n",
            "|      Subway Surfers|   166331958|\n",
            "|    Candy Crush Saga|   156993136|\n",
            "|            Facebook|   156286514|\n",
            "|         8 Ball Pool|    99386198|\n",
            "|        Clash Royale|    92530298|\n",
            "|            Snapchat|    68045010|\n",
            "+--------------------+------------+\n",
            "only showing top 10 rows\n",
            "\n"
          ]
        }
      ]
    },
    {
      "cell_type": "code",
      "source": [
        "gps_df = playstore_df2_filled.groupBy(\"App\").agg(sum(\"Reviews\").alias(\"Total_Reviews\"))\n",
        "gps_df = gps_df.orderBy(desc(\"Total_Reviews\"))\n",
        "gps_df.show(10)"
      ],
      "metadata": {
        "colab": {
          "base_uri": "https://localhost:8080/"
        },
        "id": "JcT6XOD8e4QN",
        "outputId": "0c2924af-1606-49e9-ee0e-e2b454184638"
      },
      "execution_count": 62,
      "outputs": [
        {
          "output_type": "stream",
          "name": "stdout",
          "text": [
            "+--------------------+-------------+\n",
            "|                 App|Total_Reviews|\n",
            "+--------------------+-------------+\n",
            "|           Instagram|    266241989|\n",
            "|  WhatsApp Messenger|    207348304|\n",
            "|      Clash of Clans|    179558781|\n",
            "|Messenger – Text ...|    169932272|\n",
            "|      Subway Surfers|    166331958|\n",
            "|    Candy Crush Saga|    156993136|\n",
            "|            Facebook|    156286514|\n",
            "|         8 Ball Pool|     99386198|\n",
            "|        Clash Royale|     92530298|\n",
            "|            Snapchat|     68045010|\n",
            "+--------------------+-------------+\n",
            "only showing top 10 rows\n",
            "\n"
          ]
        }
      ]
    },
    {
      "cell_type": "code",
      "source": [
        "gps_df = playstore_df2_filled.groupBy(\"App\").agg(sum(\"Installs\").alias(\"Number_Apps\"))\n",
        "gps_df = gps_df.orderBy(desc(\"Number_Apps\"))\n",
        "gps_df.show(10)"
      ],
      "metadata": {
        "colab": {
          "base_uri": "https://localhost:8080/"
        },
        "id": "8vUyZhiwfcXh",
        "outputId": "8887f1de-aca8-4179-8334-b5b6bf49ed9e"
      },
      "execution_count": 63,
      "outputs": [
        {
          "output_type": "stream",
          "name": "stdout",
          "text": [
            "+--------------------+-----------+\n",
            "|                 App|Number_Apps|\n",
            "+--------------------+-----------+\n",
            "|      Subway Surfers| 6000000000|\n",
            "|           Instagram| 4000000000|\n",
            "|        Google Drive| 4000000000|\n",
            "|            Hangouts| 4000000000|\n",
            "|         Google News| 4000000000|\n",
            "|       Google Photos| 4000000000|\n",
            "|    Candy Crush Saga| 3500000000|\n",
            "|Messenger – Text ...| 3000000000|\n",
            "|Google Chrome: Fa...| 3000000000|\n",
            "|Maps - Navigate &...| 3000000000|\n",
            "+--------------------+-----------+\n",
            "only showing top 10 rows\n",
            "\n"
          ]
        }
      ]
    },
    {
      "cell_type": "code",
      "source": [
        "playstore_df2_filled.createOrReplaceTempView(\"apps\")\n",
        "result_df = spark.sql(\"SELECT * FROM apps LIMIT 5\")\n",
        "result_df.show()"
      ],
      "metadata": {
        "colab": {
          "base_uri": "https://localhost:8080/"
        },
        "id": "gteSqg3-h4iy",
        "outputId": "bfa164d3-78d0-4051-e320-c8c2041f4b29"
      },
      "execution_count": 66,
      "outputs": [
        {
          "output_type": "stream",
          "name": "stdout",
          "text": [
            "+--------------------+--------------+---------+-------+--------+----+-----+--------------------+\n",
            "|                 App|      Category|   Rating|Reviews|Installs|Type|Price|              Genres|\n",
            "+--------------------+--------------+---------+-------+--------+----+-----+--------------------+\n",
            "|Photo Editor & Ca...|ART_AND_DESIGN|  10000.0|    159|   10000|Free|    0|        Art & Design|\n",
            "| Coloring book moana|ART_AND_DESIGN| 500000.0|    967|  500000|Free|    0|Art & Design;Pret...|\n",
            "|U Launcher Lite –...|ART_AND_DESIGN|5000000.0|  87510| 5000000|Free|    0|        Art & Design|\n",
            "|Sketch - Draw & P...|ART_AND_DESIGN|    5.0E7| 215644|50000000|Free|    0|        Art & Design|\n",
            "|Pixel Draw - Numb...|ART_AND_DESIGN| 100000.0|    967|  100000|Free|    0|Art & Design;Crea...|\n",
            "+--------------------+--------------+---------+-------+--------+----+-----+--------------------+\n",
            "\n"
          ]
        }
      ]
    },
    {
      "cell_type": "code",
      "source": [
        "result_df1 = spark.sql(\"SELECT App, sum(Installs) FROM apps group by 1 order by 2 desc LIMIT 10\")\n",
        "result_df1.show()"
      ],
      "metadata": {
        "colab": {
          "base_uri": "https://localhost:8080/"
        },
        "id": "nSXw8Xc4jZ_h",
        "outputId": "8ab9ddf3-f346-4eb5-c4c1-d0376181a38a"
      },
      "execution_count": 68,
      "outputs": [
        {
          "output_type": "stream",
          "name": "stdout",
          "text": [
            "+--------------------+-------------+\n",
            "|                 App|sum(Installs)|\n",
            "+--------------------+-------------+\n",
            "|      Subway Surfers|   6000000000|\n",
            "|           Instagram|   4000000000|\n",
            "|            Hangouts|   4000000000|\n",
            "|        Google Drive|   4000000000|\n",
            "|         Google News|   4000000000|\n",
            "|       Google Photos|   4000000000|\n",
            "|    Candy Crush Saga|   3500000000|\n",
            "|  WhatsApp Messenger|   3000000000|\n",
            "|Messenger – Text ...|   3000000000|\n",
            "|Google Chrome: Fa...|   3000000000|\n",
            "+--------------------+-------------+\n",
            "\n"
          ]
        }
      ]
    },
    {
      "cell_type": "code",
      "source": [
        "gps_df = playstore_df2_filled.groupBy(\"App\",\"Type\").agg(sum(\"Installs\").alias(\"Apps_install_type\"))\n",
        "gps_df = gps_df.orderBy(desc(\"Apps_install_type\"))\n",
        "gps_df.show(10)"
      ],
      "metadata": {
        "colab": {
          "base_uri": "https://localhost:8080/"
        },
        "id": "BzpPEjb9w1NC",
        "outputId": "9dac5736-44b4-4688-f1ff-1482b245e1af"
      },
      "execution_count": 71,
      "outputs": [
        {
          "output_type": "stream",
          "name": "stdout",
          "text": [
            "+------------------+----+-----------------+\n",
            "|               App|Type|Apps_install_type|\n",
            "+------------------+----+-----------------+\n",
            "|    Subway Surfers|Free|       6000000000|\n",
            "|         Instagram|Free|       4000000000|\n",
            "|      Google Drive|Free|       4000000000|\n",
            "|          Hangouts|Free|       4000000000|\n",
            "|     Google Photos|Free|       4000000000|\n",
            "|       Google News|Free|       4000000000|\n",
            "|  Candy Crush Saga|Free|       3500000000|\n",
            "|WhatsApp Messenger|Free|       3000000000|\n",
            "|             Gmail|Free|       3000000000|\n",
            "|      Temple Run 2|Free|       3000000000|\n",
            "+------------------+----+-----------------+\n",
            "only showing top 10 rows\n",
            "\n"
          ]
        }
      ]
    },
    {
      "cell_type": "code",
      "source": [
        "result_df2 = spark.sql(\"SELECT App,Type, sum(Installs) FROM apps group by 1,2 order by 3 desc LIMIT 10\")\n",
        "result_df2.show()"
      ],
      "metadata": {
        "colab": {
          "base_uri": "https://localhost:8080/"
        },
        "id": "Dr4z_wMdwZ7t",
        "outputId": "713b2240-02ab-44c5-9a7c-67f72fdd2c74"
      },
      "execution_count": 70,
      "outputs": [
        {
          "output_type": "stream",
          "name": "stdout",
          "text": [
            "+------------------+----+-------------+\n",
            "|               App|Type|sum(Installs)|\n",
            "+------------------+----+-------------+\n",
            "|    Subway Surfers|Free|   6000000000|\n",
            "|         Instagram|Free|   4000000000|\n",
            "|      Google Drive|Free|   4000000000|\n",
            "|          Hangouts|Free|   4000000000|\n",
            "|     Google Photos|Free|   4000000000|\n",
            "|       Google News|Free|   4000000000|\n",
            "|  Candy Crush Saga|Free|   3500000000|\n",
            "|WhatsApp Messenger|Free|   3000000000|\n",
            "|             Gmail|Free|   3000000000|\n",
            "|      Temple Run 2|Free|   3000000000|\n",
            "+------------------+----+-------------+\n",
            "\n"
          ]
        }
      ]
    },
    {
      "cell_type": "code",
      "source": [
        "gps_df = playstore_df2_filled.groupBy(\"Category\").agg(sum(\"Installs\").alias(\"Apps_install_Category\"))\n",
        "gps_df = gps_df.orderBy(desc(\"Apps_install_Category\"))\n",
        "gps_df.show(10)"
      ],
      "metadata": {
        "colab": {
          "base_uri": "https://localhost:8080/"
        },
        "id": "e5udDi0hzDxW",
        "outputId": "52ce7656-b1a8-4dc4-ee0c-91e80e42b551"
      },
      "execution_count": 72,
      "outputs": [
        {
          "output_type": "stream",
          "name": "stdout",
          "text": [
            "+------------------+---------------------+\n",
            "|          Category|Apps_install_Category|\n",
            "+------------------+---------------------+\n",
            "|              GAME|          35086024415|\n",
            "|     COMMUNICATION|          32647276251|\n",
            "|      PRODUCTIVITY|          14176091369|\n",
            "|            SOCIAL|          14069867902|\n",
            "|             TOOLS|          11452771915|\n",
            "|            FAMILY|          10258263505|\n",
            "|       PHOTOGRAPHY|          10088247655|\n",
            "|NEWS_AND_MAGAZINES|           7496317760|\n",
            "|  TRAVEL_AND_LOCAL|           6868887146|\n",
            "|     VIDEO_PLAYERS|           6222002720|\n",
            "+------------------+---------------------+\n",
            "only showing top 10 rows\n",
            "\n"
          ]
        }
      ]
    },
    {
      "cell_type": "code",
      "source": [
        "result_df2 = spark.sql(\"SELECT Category, sum(Installs) FROM apps group by 1 order by 2 desc LIMIT 10\")\n",
        "result_df2.show()"
      ],
      "metadata": {
        "colab": {
          "base_uri": "https://localhost:8080/"
        },
        "id": "VdKD2jQuzDiW",
        "outputId": "21a6f7eb-481f-476e-eaf6-c03bb27df785"
      },
      "execution_count": 73,
      "outputs": [
        {
          "output_type": "stream",
          "name": "stdout",
          "text": [
            "+------------------+-------------+\n",
            "|          Category|sum(Installs)|\n",
            "+------------------+-------------+\n",
            "|              GAME|  35086024415|\n",
            "|     COMMUNICATION|  32647276251|\n",
            "|      PRODUCTIVITY|  14176091369|\n",
            "|            SOCIAL|  14069867902|\n",
            "|             TOOLS|  11452771915|\n",
            "|            FAMILY|  10258263505|\n",
            "|       PHOTOGRAPHY|  10088247655|\n",
            "|NEWS_AND_MAGAZINES|   7496317760|\n",
            "|  TRAVEL_AND_LOCAL|   6868887146|\n",
            "|     VIDEO_PLAYERS|   6222002720|\n",
            "+------------------+-------------+\n",
            "\n"
          ]
        }
      ]
    },
    {
      "cell_type": "code",
      "source": [
        "gps_df = playstore_df2_filled.filter(col(\"Type\") == 'Paid').groupBy(\"App\").agg(sum(\"Price\").alias(\"Apps_paid\"))\n",
        "gps_df = gps_df.orderBy(desc(\"Apps_paid\"))\n",
        "gps_df.show(10)"
      ],
      "metadata": {
        "colab": {
          "base_uri": "https://localhost:8080/"
        },
        "id": "nP0GEvcVzrJa",
        "outputId": "b39f02a0-b04d-4963-a67f-630b08b5f91e"
      },
      "execution_count": 76,
      "outputs": [
        {
          "output_type": "stream",
          "name": "stdout",
          "text": [
            "+--------------------+---------+\n",
            "|                 App|Apps_paid|\n",
            "+--------------------+---------+\n",
            "|I'm Rich - Trump ...|      400|\n",
            "|most expensive ap...|      399|\n",
            "|           I am Rich|      399|\n",
            "|  I AM RICH PRO PLUS|      399|\n",
            "|  I am rich(premium)|      399|\n",
            "|      I am Rich Plus|      399|\n",
            "|I'm Rich/Eu sou R...|      399|\n",
            "|   I Am Rich Premium|      399|\n",
            "|       I Am Rich Pro|      399|\n",
            "|          I am Rich!|      399|\n",
            "+--------------------+---------+\n",
            "only showing top 10 rows\n",
            "\n"
          ]
        }
      ]
    },
    {
      "cell_type": "code",
      "source": [
        "# group by the Price and calculte sum of paid apps\n",
        "result_df2 = spark.sql(\"SELECT App, sum(Price) FROM apps where Type = 'Paid' group by 1 order by 2 desc LIMIT 10\")\n",
        "result_df2.show()"
      ],
      "metadata": {
        "colab": {
          "base_uri": "https://localhost:8080/"
        },
        "id": "xhuujrgczq66",
        "outputId": "7d8a07d8-102c-4043-85eb-1c9b08c3657b"
      },
      "execution_count": 75,
      "outputs": [
        {
          "output_type": "stream",
          "name": "stdout",
          "text": [
            "+--------------------+----------+\n",
            "|                 App|sum(Price)|\n",
            "+--------------------+----------+\n",
            "|I'm Rich - Trump ...|       400|\n",
            "|most expensive ap...|       399|\n",
            "|  I am rich(premium)|       399|\n",
            "|   I Am Rich Premium|       399|\n",
            "|      I am Rich Plus|       399|\n",
            "|I'm Rich/Eu sou R...|       399|\n",
            "|       I Am Rich Pro|       399|\n",
            "|  I AM RICH PRO PLUS|       399|\n",
            "|           I am Rich|       399|\n",
            "|          I am Rich!|       399|\n",
            "+--------------------+----------+\n",
            "\n"
          ]
        }
      ]
    }
  ],
  "metadata": {
    "colab": {
      "provenance": [],
      "toc_visible": true
    },
    "kernelspec": {
      "display_name": "Python 3",
      "name": "python3"
    },
    "language_info": {
      "name": "python"
    }
  },
  "nbformat": 4,
  "nbformat_minor": 0
}