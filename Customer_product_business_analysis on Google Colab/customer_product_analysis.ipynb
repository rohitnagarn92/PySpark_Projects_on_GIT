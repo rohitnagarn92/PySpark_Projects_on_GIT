{
  "cells": [
    {
      "cell_type": "code",
      "source": [
        "!pip install pyspark findspark\n",
        "import findspark\n",
        "findspark.init()\n"
      ],
      "metadata": {
        "colab": {
          "base_uri": "https://localhost:8080/"
        },
        "id": "6wZCzaBBjI4F",
        "outputId": "e2e78c4f-5923-4f84-aa3f-f76996289ae1"
      },
      "execution_count": 1,
      "outputs": [
        {
          "output_type": "stream",
          "name": "stdout",
          "text": [
            "Collecting pyspark\n",
            "  Downloading pyspark-3.5.2.tar.gz (317.3 MB)\n",
            "\u001b[2K     \u001b[90m━━━━━━━━━━━━━━━━━━━━━━━━━━━━━━━━━━━━━━━━\u001b[0m \u001b[32m317.3/317.3 MB\u001b[0m \u001b[31m4.2 MB/s\u001b[0m eta \u001b[36m0:00:00\u001b[0m\n",
            "\u001b[?25h  Preparing metadata (setup.py) ... \u001b[?25l\u001b[?25hdone\n",
            "Collecting findspark\n",
            "  Downloading findspark-2.0.1-py2.py3-none-any.whl.metadata (352 bytes)\n",
            "Requirement already satisfied: py4j==0.10.9.7 in /usr/local/lib/python3.10/dist-packages (from pyspark) (0.10.9.7)\n",
            "Downloading findspark-2.0.1-py2.py3-none-any.whl (4.4 kB)\n",
            "Building wheels for collected packages: pyspark\n",
            "  Building wheel for pyspark (setup.py) ... \u001b[?25l\u001b[?25hdone\n",
            "  Created wheel for pyspark: filename=pyspark-3.5.2-py2.py3-none-any.whl size=317812365 sha256=9a509797415296d9d2a7d54ab60ad77bda4522be1f0f80f01685a8b4241de730\n",
            "  Stored in directory: /root/.cache/pip/wheels/34/34/bd/03944534c44b677cd5859f248090daa9fb27b3c8f8e5f49574\n",
            "Successfully built pyspark\n",
            "Installing collected packages: findspark, pyspark\n",
            "Successfully installed findspark-2.0.1 pyspark-3.5.2\n"
          ]
        }
      ]
    },
    {
      "cell_type": "code",
      "source": [
        "from pyspark.sql.functions import expr,col,isnan,when,count,regexp_replace,sum\n",
        "from pyspark.sql.types import IntegerType,DoubleType,StringType,StructType,StructField,DateType\n",
        "from pyspark.sql import SparkSession\n",
        "spark = SparkSession.builder.appName(\"customer_product_project\").getOrCreate()"
      ],
      "metadata": {
        "id": "8wuxjUAGiwus"
      },
      "execution_count": 4,
      "outputs": []
    },
    {
      "cell_type": "code",
      "source": [
        "from google.colab import files\n",
        "uploaded = files.upload()\n"
      ],
      "metadata": {
        "colab": {
          "base_uri": "https://localhost:8080/",
          "height": 73
        },
        "id": "ggYpkIUGjvI4",
        "outputId": "ab182557-c3bc-4b4b-b80e-3050358b9a5d"
      },
      "execution_count": 5,
      "outputs": [
        {
          "output_type": "display_data",
          "data": {
            "text/plain": [
              "<IPython.core.display.HTML object>"
            ],
            "text/html": [
              "\n",
              "     <input type=\"file\" id=\"files-3ca2011b-4d61-49e0-9ab0-a95b196436b0\" name=\"files[]\" multiple disabled\n",
              "        style=\"border:none\" />\n",
              "     <output id=\"result-3ca2011b-4d61-49e0-9ab0-a95b196436b0\">\n",
              "      Upload widget is only available when the cell has been executed in the\n",
              "      current browser session. Please rerun this cell to enable.\n",
              "      </output>\n",
              "      <script>// Copyright 2017 Google LLC\n",
              "//\n",
              "// Licensed under the Apache License, Version 2.0 (the \"License\");\n",
              "// you may not use this file except in compliance with the License.\n",
              "// You may obtain a copy of the License at\n",
              "//\n",
              "//      http://www.apache.org/licenses/LICENSE-2.0\n",
              "//\n",
              "// Unless required by applicable law or agreed to in writing, software\n",
              "// distributed under the License is distributed on an \"AS IS\" BASIS,\n",
              "// WITHOUT WARRANTIES OR CONDITIONS OF ANY KIND, either express or implied.\n",
              "// See the License for the specific language governing permissions and\n",
              "// limitations under the License.\n",
              "\n",
              "/**\n",
              " * @fileoverview Helpers for google.colab Python module.\n",
              " */\n",
              "(function(scope) {\n",
              "function span(text, styleAttributes = {}) {\n",
              "  const element = document.createElement('span');\n",
              "  element.textContent = text;\n",
              "  for (const key of Object.keys(styleAttributes)) {\n",
              "    element.style[key] = styleAttributes[key];\n",
              "  }\n",
              "  return element;\n",
              "}\n",
              "\n",
              "// Max number of bytes which will be uploaded at a time.\n",
              "const MAX_PAYLOAD_SIZE = 100 * 1024;\n",
              "\n",
              "function _uploadFiles(inputId, outputId) {\n",
              "  const steps = uploadFilesStep(inputId, outputId);\n",
              "  const outputElement = document.getElementById(outputId);\n",
              "  // Cache steps on the outputElement to make it available for the next call\n",
              "  // to uploadFilesContinue from Python.\n",
              "  outputElement.steps = steps;\n",
              "\n",
              "  return _uploadFilesContinue(outputId);\n",
              "}\n",
              "\n",
              "// This is roughly an async generator (not supported in the browser yet),\n",
              "// where there are multiple asynchronous steps and the Python side is going\n",
              "// to poll for completion of each step.\n",
              "// This uses a Promise to block the python side on completion of each step,\n",
              "// then passes the result of the previous step as the input to the next step.\n",
              "function _uploadFilesContinue(outputId) {\n",
              "  const outputElement = document.getElementById(outputId);\n",
              "  const steps = outputElement.steps;\n",
              "\n",
              "  const next = steps.next(outputElement.lastPromiseValue);\n",
              "  return Promise.resolve(next.value.promise).then((value) => {\n",
              "    // Cache the last promise value to make it available to the next\n",
              "    // step of the generator.\n",
              "    outputElement.lastPromiseValue = value;\n",
              "    return next.value.response;\n",
              "  });\n",
              "}\n",
              "\n",
              "/**\n",
              " * Generator function which is called between each async step of the upload\n",
              " * process.\n",
              " * @param {string} inputId Element ID of the input file picker element.\n",
              " * @param {string} outputId Element ID of the output display.\n",
              " * @return {!Iterable<!Object>} Iterable of next steps.\n",
              " */\n",
              "function* uploadFilesStep(inputId, outputId) {\n",
              "  const inputElement = document.getElementById(inputId);\n",
              "  inputElement.disabled = false;\n",
              "\n",
              "  const outputElement = document.getElementById(outputId);\n",
              "  outputElement.innerHTML = '';\n",
              "\n",
              "  const pickedPromise = new Promise((resolve) => {\n",
              "    inputElement.addEventListener('change', (e) => {\n",
              "      resolve(e.target.files);\n",
              "    });\n",
              "  });\n",
              "\n",
              "  const cancel = document.createElement('button');\n",
              "  inputElement.parentElement.appendChild(cancel);\n",
              "  cancel.textContent = 'Cancel upload';\n",
              "  const cancelPromise = new Promise((resolve) => {\n",
              "    cancel.onclick = () => {\n",
              "      resolve(null);\n",
              "    };\n",
              "  });\n",
              "\n",
              "  // Wait for the user to pick the files.\n",
              "  const files = yield {\n",
              "    promise: Promise.race([pickedPromise, cancelPromise]),\n",
              "    response: {\n",
              "      action: 'starting',\n",
              "    }\n",
              "  };\n",
              "\n",
              "  cancel.remove();\n",
              "\n",
              "  // Disable the input element since further picks are not allowed.\n",
              "  inputElement.disabled = true;\n",
              "\n",
              "  if (!files) {\n",
              "    return {\n",
              "      response: {\n",
              "        action: 'complete',\n",
              "      }\n",
              "    };\n",
              "  }\n",
              "\n",
              "  for (const file of files) {\n",
              "    const li = document.createElement('li');\n",
              "    li.append(span(file.name, {fontWeight: 'bold'}));\n",
              "    li.append(span(\n",
              "        `(${file.type || 'n/a'}) - ${file.size} bytes, ` +\n",
              "        `last modified: ${\n",
              "            file.lastModifiedDate ? file.lastModifiedDate.toLocaleDateString() :\n",
              "                                    'n/a'} - `));\n",
              "    const percent = span('0% done');\n",
              "    li.appendChild(percent);\n",
              "\n",
              "    outputElement.appendChild(li);\n",
              "\n",
              "    const fileDataPromise = new Promise((resolve) => {\n",
              "      const reader = new FileReader();\n",
              "      reader.onload = (e) => {\n",
              "        resolve(e.target.result);\n",
              "      };\n",
              "      reader.readAsArrayBuffer(file);\n",
              "    });\n",
              "    // Wait for the data to be ready.\n",
              "    let fileData = yield {\n",
              "      promise: fileDataPromise,\n",
              "      response: {\n",
              "        action: 'continue',\n",
              "      }\n",
              "    };\n",
              "\n",
              "    // Use a chunked sending to avoid message size limits. See b/62115660.\n",
              "    let position = 0;\n",
              "    do {\n",
              "      const length = Math.min(fileData.byteLength - position, MAX_PAYLOAD_SIZE);\n",
              "      const chunk = new Uint8Array(fileData, position, length);\n",
              "      position += length;\n",
              "\n",
              "      const base64 = btoa(String.fromCharCode.apply(null, chunk));\n",
              "      yield {\n",
              "        response: {\n",
              "          action: 'append',\n",
              "          file: file.name,\n",
              "          data: base64,\n",
              "        },\n",
              "      };\n",
              "\n",
              "      let percentDone = fileData.byteLength === 0 ?\n",
              "          100 :\n",
              "          Math.round((position / fileData.byteLength) * 100);\n",
              "      percent.textContent = `${percentDone}% done`;\n",
              "\n",
              "    } while (position < fileData.byteLength);\n",
              "  }\n",
              "\n",
              "  // All done.\n",
              "  yield {\n",
              "    response: {\n",
              "      action: 'complete',\n",
              "    }\n",
              "  };\n",
              "}\n",
              "\n",
              "scope.google = scope.google || {};\n",
              "scope.google.colab = scope.google.colab || {};\n",
              "scope.google.colab._files = {\n",
              "  _uploadFiles,\n",
              "  _uploadFilesContinue,\n",
              "};\n",
              "})(self);\n",
              "</script> "
            ]
          },
          "metadata": {}
        },
        {
          "output_type": "stream",
          "name": "stdout",
          "text": [
            "Saving sales.csv.txt to sales.csv.txt\n"
          ]
        }
      ]
    },
    {
      "cell_type": "code",
      "source": [
        "file_name1 = list(uploaded.keys())[0]\n",
        "schema = StructType(\n",
        "    [StructField(\"product_id\",IntegerType(), True),\n",
        "     StructField(\"customer_id\",StringType(), True),\n",
        "     StructField(\"order_date\",DateType(), True),\n",
        "     StructField(\"location\",StringType(), True),\n",
        "     StructField(\"source_order\",StringType(), True)\n",
        "    ]\n",
        ")\n",
        "# Read the CSV file using PySpark\n",
        "# playstore_df = spark.read.csv(file_name1, header=True, inferSchema=True)\n",
        "sales_df = spark.read.format(\"csv\").option(\"inferschema\",\"True\").schema(schema).load(file_name1)\n",
        "\n",
        "# Display the data (use show() instead of display)\n",
        "sales_df.show(2)"
      ],
      "metadata": {
        "colab": {
          "base_uri": "https://localhost:8080/"
        },
        "id": "iZ_VtmqIkUzB",
        "outputId": "52e8aa7b-b56c-44f3-bd84-db464473a3e6"
      },
      "execution_count": 7,
      "outputs": [
        {
          "output_type": "stream",
          "name": "stdout",
          "text": [
            "+----------+-----------+----------+--------+------------+\n",
            "|product_id|customer_id|order_date|location|source_order|\n",
            "+----------+-----------+----------+--------+------------+\n",
            "|         1|          A|2023-01-01|   India|      Swiggy|\n",
            "|         2|          A|2022-01-01|   India|      Swiggy|\n",
            "+----------+-----------+----------+--------+------------+\n",
            "only showing top 2 rows\n",
            "\n"
          ]
        }
      ]
    },
    {
      "cell_type": "code",
      "source": [
        "from pyspark.sql.functions import month, year, quarter\n",
        "sales_df=sales_df.withColumn(\"order_year\",year(sales_df.order_date))\\\n",
        "         .withColumn(\"order_month\",month(sales_df.order_date))\\\n",
        "         .withColumn(\"order_quarter\",quarter(sales_df.order_date))\n",
        "sales_df.show(2)"
      ],
      "metadata": {
        "colab": {
          "base_uri": "https://localhost:8080/"
        },
        "id": "oJwY3E74d-36",
        "outputId": "afd3b426-8d26-4704-9f15-a2c9c11dc325"
      },
      "execution_count": 9,
      "outputs": [
        {
          "output_type": "stream",
          "name": "stdout",
          "text": [
            "+----------+-----------+----------+--------+------------+----------+-----------+-------------+\n",
            "|product_id|customer_id|order_date|location|source_order|order_year|order_month|order_quarter|\n",
            "+----------+-----------+----------+--------+------------+----------+-----------+-------------+\n",
            "|         1|          A|2023-01-01|   India|      Swiggy|      2023|          1|            1|\n",
            "|         2|          A|2022-01-01|   India|      Swiggy|      2022|          1|            1|\n",
            "+----------+-----------+----------+--------+------------+----------+-----------+-------------+\n",
            "only showing top 2 rows\n",
            "\n"
          ]
        }
      ]
    },
    {
      "cell_type": "code",
      "source": [
        "from google.colab import files\n",
        "uploaded1 = files.upload()"
      ],
      "metadata": {
        "colab": {
          "base_uri": "https://localhost:8080/",
          "height": 73
        },
        "id": "nC797mlDcM83",
        "outputId": "40892d55-d80f-47dd-c253-b58584c9b8dd"
      },
      "execution_count": 15,
      "outputs": [
        {
          "output_type": "display_data",
          "data": {
            "text/plain": [
              "<IPython.core.display.HTML object>"
            ],
            "text/html": [
              "\n",
              "     <input type=\"file\" id=\"files-c124ef2a-40b2-479b-81f5-b83435c1833f\" name=\"files[]\" multiple disabled\n",
              "        style=\"border:none\" />\n",
              "     <output id=\"result-c124ef2a-40b2-479b-81f5-b83435c1833f\">\n",
              "      Upload widget is only available when the cell has been executed in the\n",
              "      current browser session. Please rerun this cell to enable.\n",
              "      </output>\n",
              "      <script>// Copyright 2017 Google LLC\n",
              "//\n",
              "// Licensed under the Apache License, Version 2.0 (the \"License\");\n",
              "// you may not use this file except in compliance with the License.\n",
              "// You may obtain a copy of the License at\n",
              "//\n",
              "//      http://www.apache.org/licenses/LICENSE-2.0\n",
              "//\n",
              "// Unless required by applicable law or agreed to in writing, software\n",
              "// distributed under the License is distributed on an \"AS IS\" BASIS,\n",
              "// WITHOUT WARRANTIES OR CONDITIONS OF ANY KIND, either express or implied.\n",
              "// See the License for the specific language governing permissions and\n",
              "// limitations under the License.\n",
              "\n",
              "/**\n",
              " * @fileoverview Helpers for google.colab Python module.\n",
              " */\n",
              "(function(scope) {\n",
              "function span(text, styleAttributes = {}) {\n",
              "  const element = document.createElement('span');\n",
              "  element.textContent = text;\n",
              "  for (const key of Object.keys(styleAttributes)) {\n",
              "    element.style[key] = styleAttributes[key];\n",
              "  }\n",
              "  return element;\n",
              "}\n",
              "\n",
              "// Max number of bytes which will be uploaded at a time.\n",
              "const MAX_PAYLOAD_SIZE = 100 * 1024;\n",
              "\n",
              "function _uploadFiles(inputId, outputId) {\n",
              "  const steps = uploadFilesStep(inputId, outputId);\n",
              "  const outputElement = document.getElementById(outputId);\n",
              "  // Cache steps on the outputElement to make it available for the next call\n",
              "  // to uploadFilesContinue from Python.\n",
              "  outputElement.steps = steps;\n",
              "\n",
              "  return _uploadFilesContinue(outputId);\n",
              "}\n",
              "\n",
              "// This is roughly an async generator (not supported in the browser yet),\n",
              "// where there are multiple asynchronous steps and the Python side is going\n",
              "// to poll for completion of each step.\n",
              "// This uses a Promise to block the python side on completion of each step,\n",
              "// then passes the result of the previous step as the input to the next step.\n",
              "function _uploadFilesContinue(outputId) {\n",
              "  const outputElement = document.getElementById(outputId);\n",
              "  const steps = outputElement.steps;\n",
              "\n",
              "  const next = steps.next(outputElement.lastPromiseValue);\n",
              "  return Promise.resolve(next.value.promise).then((value) => {\n",
              "    // Cache the last promise value to make it available to the next\n",
              "    // step of the generator.\n",
              "    outputElement.lastPromiseValue = value;\n",
              "    return next.value.response;\n",
              "  });\n",
              "}\n",
              "\n",
              "/**\n",
              " * Generator function which is called between each async step of the upload\n",
              " * process.\n",
              " * @param {string} inputId Element ID of the input file picker element.\n",
              " * @param {string} outputId Element ID of the output display.\n",
              " * @return {!Iterable<!Object>} Iterable of next steps.\n",
              " */\n",
              "function* uploadFilesStep(inputId, outputId) {\n",
              "  const inputElement = document.getElementById(inputId);\n",
              "  inputElement.disabled = false;\n",
              "\n",
              "  const outputElement = document.getElementById(outputId);\n",
              "  outputElement.innerHTML = '';\n",
              "\n",
              "  const pickedPromise = new Promise((resolve) => {\n",
              "    inputElement.addEventListener('change', (e) => {\n",
              "      resolve(e.target.files);\n",
              "    });\n",
              "  });\n",
              "\n",
              "  const cancel = document.createElement('button');\n",
              "  inputElement.parentElement.appendChild(cancel);\n",
              "  cancel.textContent = 'Cancel upload';\n",
              "  const cancelPromise = new Promise((resolve) => {\n",
              "    cancel.onclick = () => {\n",
              "      resolve(null);\n",
              "    };\n",
              "  });\n",
              "\n",
              "  // Wait for the user to pick the files.\n",
              "  const files = yield {\n",
              "    promise: Promise.race([pickedPromise, cancelPromise]),\n",
              "    response: {\n",
              "      action: 'starting',\n",
              "    }\n",
              "  };\n",
              "\n",
              "  cancel.remove();\n",
              "\n",
              "  // Disable the input element since further picks are not allowed.\n",
              "  inputElement.disabled = true;\n",
              "\n",
              "  if (!files) {\n",
              "    return {\n",
              "      response: {\n",
              "        action: 'complete',\n",
              "      }\n",
              "    };\n",
              "  }\n",
              "\n",
              "  for (const file of files) {\n",
              "    const li = document.createElement('li');\n",
              "    li.append(span(file.name, {fontWeight: 'bold'}));\n",
              "    li.append(span(\n",
              "        `(${file.type || 'n/a'}) - ${file.size} bytes, ` +\n",
              "        `last modified: ${\n",
              "            file.lastModifiedDate ? file.lastModifiedDate.toLocaleDateString() :\n",
              "                                    'n/a'} - `));\n",
              "    const percent = span('0% done');\n",
              "    li.appendChild(percent);\n",
              "\n",
              "    outputElement.appendChild(li);\n",
              "\n",
              "    const fileDataPromise = new Promise((resolve) => {\n",
              "      const reader = new FileReader();\n",
              "      reader.onload = (e) => {\n",
              "        resolve(e.target.result);\n",
              "      };\n",
              "      reader.readAsArrayBuffer(file);\n",
              "    });\n",
              "    // Wait for the data to be ready.\n",
              "    let fileData = yield {\n",
              "      promise: fileDataPromise,\n",
              "      response: {\n",
              "        action: 'continue',\n",
              "      }\n",
              "    };\n",
              "\n",
              "    // Use a chunked sending to avoid message size limits. See b/62115660.\n",
              "    let position = 0;\n",
              "    do {\n",
              "      const length = Math.min(fileData.byteLength - position, MAX_PAYLOAD_SIZE);\n",
              "      const chunk = new Uint8Array(fileData, position, length);\n",
              "      position += length;\n",
              "\n",
              "      const base64 = btoa(String.fromCharCode.apply(null, chunk));\n",
              "      yield {\n",
              "        response: {\n",
              "          action: 'append',\n",
              "          file: file.name,\n",
              "          data: base64,\n",
              "        },\n",
              "      };\n",
              "\n",
              "      let percentDone = fileData.byteLength === 0 ?\n",
              "          100 :\n",
              "          Math.round((position / fileData.byteLength) * 100);\n",
              "      percent.textContent = `${percentDone}% done`;\n",
              "\n",
              "    } while (position < fileData.byteLength);\n",
              "  }\n",
              "\n",
              "  // All done.\n",
              "  yield {\n",
              "    response: {\n",
              "      action: 'complete',\n",
              "    }\n",
              "  };\n",
              "}\n",
              "\n",
              "scope.google = scope.google || {};\n",
              "scope.google.colab = scope.google.colab || {};\n",
              "scope.google.colab._files = {\n",
              "  _uploadFiles,\n",
              "  _uploadFilesContinue,\n",
              "};\n",
              "})(self);\n",
              "</script> "
            ]
          },
          "metadata": {}
        },
        {
          "output_type": "stream",
          "name": "stdout",
          "text": [
            "Saving menu.csv.txt to menu.csv.txt\n"
          ]
        }
      ]
    },
    {
      "cell_type": "code",
      "source": [
        "file_name1 = list(uploaded1.keys())[0]\n",
        "schema1 = StructType(\n",
        "    [StructField(\"product_id\",IntegerType(), True),\n",
        "     StructField(\"product_name\",StringType(), True),\n",
        "     StructField(\"price\",StringType(), True)\n",
        "    ]\n",
        ")\n",
        "# Read the CSV file using PySpark\n",
        "# playstore_df = spark.read.csv(file_name1, header=True, inferSchema=True)\n",
        "menu_df = spark.read.format(\"csv\").option(\"inferschema\",\"True\").schema(schema1).load(file_name1)\n",
        "\n",
        "# Display the data (use show() instead of display)\n",
        "menu_df.show(2)\n",
        "sales_df.show(2)"
      ],
      "metadata": {
        "colab": {
          "base_uri": "https://localhost:8080/"
        },
        "id": "TPSoNPeZcpH5",
        "outputId": "f9cd3103-50a2-4086-a057-46214459accb"
      },
      "execution_count": 18,
      "outputs": [
        {
          "output_type": "stream",
          "name": "stdout",
          "text": [
            "+----------+------------+-----+\n",
            "|product_id|product_name|price|\n",
            "+----------+------------+-----+\n",
            "|         1|       PIZZA|  100|\n",
            "|         2|     Chowmin|  150|\n",
            "+----------+------------+-----+\n",
            "only showing top 2 rows\n",
            "\n",
            "+----------+-----------+----------+--------+------------+----------+-----------+-------------+\n",
            "|product_id|customer_id|order_date|location|source_order|order_year|order_month|order_quarter|\n",
            "+----------+-----------+----------+--------+------------+----------+-----------+-------------+\n",
            "|         1|          A|2023-01-01|   India|      Swiggy|      2023|          1|            1|\n",
            "|         2|          A|2022-01-01|   India|      Swiggy|      2022|          1|            1|\n",
            "+----------+-----------+----------+--------+------------+----------+-----------+-------------+\n",
            "only showing top 2 rows\n",
            "\n"
          ]
        }
      ]
    },
    {
      "cell_type": "code",
      "source": [
        "# Apply Join on both\n",
        "cust_prod_df = sales_df.join(menu_df,\"product_id\")\n",
        "cust_prod_df.show(2)\n"
      ],
      "metadata": {
        "id": "mq871bS9kBFN",
        "outputId": "09ebdccd-223f-41a1-94a4-56e83a71d98f",
        "colab": {
          "base_uri": "https://localhost:8080/"
        }
      },
      "execution_count": 19,
      "outputs": [
        {
          "output_type": "stream",
          "name": "stdout",
          "text": [
            "+----------+-----------+----------+--------+------------+----------+-----------+-------------+------------+-----+\n",
            "|product_id|customer_id|order_date|location|source_order|order_year|order_month|order_quarter|product_name|price|\n",
            "+----------+-----------+----------+--------+------------+----------+-----------+-------------+------------+-----+\n",
            "|         1|          A|2023-01-01|   India|      Swiggy|      2023|          1|            1|       PIZZA|  100|\n",
            "|         2|          A|2022-01-01|   India|      Swiggy|      2022|          1|            1|     Chowmin|  150|\n",
            "+----------+-----------+----------+--------+------------+----------+-----------+-------------+------------+-----+\n",
            "only showing top 2 rows\n",
            "\n"
          ]
        }
      ]
    },
    {
      "cell_type": "code",
      "source": [
        "# Total Amount spent by each customer\n",
        "cust_prod_df.createOrReplaceTempView(\"cust_prod\")\n",
        "total_amount_df = spark.sql(\"select customer_id, sum(price) from cust_prod group by 1 order by 2 desc\")\n",
        "total_amount_df.show(5)"
      ],
      "metadata": {
        "id": "jgfiNreHmZ_C",
        "outputId": "4426f9c9-0925-4315-8ca9-9146afa71429",
        "colab": {
          "base_uri": "https://localhost:8080/"
        }
      },
      "execution_count": 23,
      "outputs": [
        {
          "output_type": "stream",
          "name": "stdout",
          "text": [
            "+-----------+----------+\n",
            "|customer_id|sum(price)|\n",
            "+-----------+----------+\n",
            "|          B|    4440.0|\n",
            "|          A|    4260.0|\n",
            "|          C|    2400.0|\n",
            "|          E|    2040.0|\n",
            "|          D|    1200.0|\n",
            "+-----------+----------+\n",
            "\n"
          ]
        }
      ]
    },
    {
      "cell_type": "code",
      "source": [
        "from pyspark.sql.functions import expr,col,isnan,when,count,regexp_replace,sum,desc\n",
        "total_amount_df = cust_prod_df.groupBy(\"customer_id\").agg(sum(\"price\").alias(\"total_amount\"))\n",
        "total_amount_df = total_amount_df.orderBy(desc(\"total_amount\"))\n",
        "total_amount_df.show(5)"
      ],
      "metadata": {
        "id": "4FEfO5dwnY9U",
        "outputId": "465cc6c3-939c-46e0-9dda-2367b06f0ef5",
        "colab": {
          "base_uri": "https://localhost:8080/"
        }
      },
      "execution_count": 28,
      "outputs": [
        {
          "output_type": "stream",
          "name": "stdout",
          "text": [
            "+-----------+------------+\n",
            "|customer_id|total_amount|\n",
            "+-----------+------------+\n",
            "|          B|      4440.0|\n",
            "|          A|      4260.0|\n",
            "|          C|      2400.0|\n",
            "|          E|      2040.0|\n",
            "|          D|      1200.0|\n",
            "+-----------+------------+\n",
            "\n"
          ]
        }
      ]
    },
    {
      "cell_type": "code",
      "source": [
        "# Total Amount spent by each food category\n",
        "total_amount_df = cust_prod_df.groupBy(\"product_name\").agg(sum(\"price\").alias(\"total_amount\"))\n",
        "total_amount_df = total_amount_df.orderBy(desc(\"total_amount\"))\n",
        "total_amount_df.show(5)"
      ],
      "metadata": {
        "id": "n7aBJoC5kFKm",
        "outputId": "71bd5a1c-096b-4058-ea8d-3ba6fdd27698",
        "colab": {
          "base_uri": "https://localhost:8080/"
        }
      },
      "execution_count": 29,
      "outputs": [
        {
          "output_type": "stream",
          "name": "stdout",
          "text": [
            "+------------+------------+\n",
            "|product_name|total_amount|\n",
            "+------------+------------+\n",
            "|    sandwich|      5760.0|\n",
            "|     Chowmin|      3600.0|\n",
            "|       PIZZA|      2100.0|\n",
            "|        Dosa|      1320.0|\n",
            "|       Pasta|      1080.0|\n",
            "+------------+------------+\n",
            "only showing top 5 rows\n",
            "\n"
          ]
        }
      ]
    },
    {
      "cell_type": "code",
      "source": [
        "# Total Amount of sales in each month\n",
        "total_amount_df = cust_prod_df.groupBy(\"order_month\",\"order_year\").agg(sum(\"price\").alias(\"total_amount\"))\n",
        "total_amount_df = total_amount_df.orderBy(desc(\"total_amount\"))\n",
        "total_amount_df.show(5)"
      ],
      "metadata": {
        "id": "FSrM_6JdkLU1",
        "outputId": "c20402c8-4f12-40b7-eea9-60c8024ee252",
        "colab": {
          "base_uri": "https://localhost:8080/"
        }
      },
      "execution_count": 31,
      "outputs": [
        {
          "output_type": "stream",
          "name": "stdout",
          "text": [
            "+-----------+----------+------------+\n",
            "|order_month|order_year|total_amount|\n",
            "+-----------+----------+------------+\n",
            "|          5|      2023|      2240.0|\n",
            "|          6|      2023|      2240.0|\n",
            "|          1|      2023|      2240.0|\n",
            "|          2|      2023|      1680.0|\n",
            "|          2|      2022|      1050.0|\n",
            "+-----------+----------+------------+\n",
            "only showing top 5 rows\n",
            "\n"
          ]
        }
      ]
    },
    {
      "cell_type": "code",
      "source": [
        "# Yearly sales\n",
        "total_amount_df = cust_prod_df.groupBy(\"order_year\").agg(sum(\"price\").alias(\"total_amount\"))\n",
        "total_amount_df = total_amount_df.orderBy(desc(\"total_amount\"))\n",
        "total_amount_df.show(5)"
      ],
      "metadata": {
        "id": "Fw3VXtNykLNu",
        "outputId": "85d3a8fc-3f16-442d-e803-6b7ebebf3798",
        "colab": {
          "base_uri": "https://localhost:8080/"
        }
      },
      "execution_count": 33,
      "outputs": [
        {
          "output_type": "stream",
          "name": "stdout",
          "text": [
            "+----------+------------+\n",
            "|order_year|total_amount|\n",
            "+----------+------------+\n",
            "|      2023|      9990.0|\n",
            "|      2022|      4350.0|\n",
            "+----------+------------+\n",
            "\n"
          ]
        }
      ]
    },
    {
      "cell_type": "code",
      "source": [
        "# Quarterly sales\n",
        "total_amount_df = cust_prod_df.groupBy(\"order_year\",\"order_month\",\"order_quarter\").agg(sum(\"price\").alias(\"total_amount\"))\n",
        "total_amount_df = total_amount_df.orderBy(desc(\"total_amount\"))\n",
        "total_amount_df.show(5)"
      ],
      "metadata": {
        "id": "ReCfOfI4kLGV",
        "outputId": "75ac7495-4ccd-493b-87f0-7c62146648c8",
        "colab": {
          "base_uri": "https://localhost:8080/"
        }
      },
      "execution_count": 35,
      "outputs": [
        {
          "output_type": "stream",
          "name": "stdout",
          "text": [
            "+----------+-----------+-------------+------------+\n",
            "|order_year|order_month|order_quarter|total_amount|\n",
            "+----------+-----------+-------------+------------+\n",
            "|      2023|          1|            1|      2240.0|\n",
            "|      2023|          5|            2|      2240.0|\n",
            "|      2023|          6|            2|      2240.0|\n",
            "|      2023|          2|            1|      1680.0|\n",
            "|      2022|          2|            1|      1050.0|\n",
            "+----------+-----------+-------------+------------+\n",
            "only showing top 5 rows\n",
            "\n"
          ]
        }
      ]
    },
    {
      "cell_type": "code",
      "source": [
        "# Total number of order by each category\n",
        "total_order_df = cust_prod_df.groupBy(\"product_id\",\"product_name\").agg(count(\"product_id\").alias(\"total_order\"))\n",
        "total_order_df = total_order_df.orderBy(desc(\"total_order\"))\n",
        "total_order_df.show(5)"
      ],
      "metadata": {
        "id": "GwZ_s3iAkK-s",
        "outputId": "885153d2-ead9-4928-b004-1d6b790eed53",
        "colab": {
          "base_uri": "https://localhost:8080/"
        }
      },
      "execution_count": 39,
      "outputs": [
        {
          "output_type": "stream",
          "name": "stdout",
          "text": [
            "+----------+------------+-----------+\n",
            "|product_id|product_name|total_order|\n",
            "+----------+------------+-----------+\n",
            "|         3|    sandwich|         48|\n",
            "|         2|     Chowmin|         24|\n",
            "|         1|       PIZZA|         21|\n",
            "|         4|        Dosa|         12|\n",
            "|         5|     Biryani|          6|\n",
            "+----------+------------+-----------+\n",
            "only showing top 5 rows\n",
            "\n"
          ]
        }
      ]
    },
    {
      "cell_type": "code",
      "source": [
        "# Top 5 ordered items\n",
        "total_order_df = cust_prod_df.groupBy(\"product_id\",\"product_name\").agg(count(\"product_id\").alias(\"total_order\"))\n",
        "total_order_df = total_order_df.orderBy(desc(\"total_order\"))\n",
        "total_order_df.show(5)"
      ],
      "metadata": {
        "id": "Kb4FT22wkK0e",
        "outputId": "982ee889-4e19-490a-ed48-8648006bfd62",
        "colab": {
          "base_uri": "https://localhost:8080/"
        }
      },
      "execution_count": 40,
      "outputs": [
        {
          "output_type": "stream",
          "name": "stdout",
          "text": [
            "+----------+------------+-----------+\n",
            "|product_id|product_name|total_order|\n",
            "+----------+------------+-----------+\n",
            "|         3|    sandwich|         48|\n",
            "|         2|     Chowmin|         24|\n",
            "|         1|       PIZZA|         21|\n",
            "|         4|        Dosa|         12|\n",
            "|         5|     Biryani|          6|\n",
            "+----------+------------+-----------+\n",
            "only showing top 5 rows\n",
            "\n"
          ]
        }
      ]
    },
    {
      "cell_type": "code",
      "source": [
        "# Top most ordered item\n",
        "total_order_df = cust_prod_df.groupBy(\"product_id\",\"product_name\").agg(count(\"product_id\").alias(\"total_order\"))\n",
        "total_order_df = total_order_df.orderBy(desc(\"total_order\"))\n",
        "total_order_df.show(1)"
      ],
      "metadata": {
        "id": "txRaCsTgkHpN",
        "outputId": "7334c9f7-504e-42f4-e5f4-fd8ea82d6277",
        "colab": {
          "base_uri": "https://localhost:8080/"
        }
      },
      "execution_count": 41,
      "outputs": [
        {
          "output_type": "stream",
          "name": "stdout",
          "text": [
            "+----------+------------+-----------+\n",
            "|product_id|product_name|total_order|\n",
            "+----------+------------+-----------+\n",
            "|         3|    sandwich|         48|\n",
            "+----------+------------+-----------+\n",
            "only showing top 1 row\n",
            "\n"
          ]
        }
      ]
    },
    {
      "cell_type": "code",
      "source": [
        "# Frequency of customer visited to source_order\n",
        "total_visit_df = cust_prod_df.groupBy(\"customer_id\",\"source_order\").agg(count(\"customer_id\").alias(\"total_visits\"))\n",
        "total_visit_df = total_visit_df.orderBy(desc(\"total_visits\"))\n",
        "total_visit_df.show(5)"
      ],
      "metadata": {
        "id": "ELz37CoNka65",
        "outputId": "6708d2f6-5121-4919-ec71-48d278ae5ea4",
        "colab": {
          "base_uri": "https://localhost:8080/"
        }
      },
      "execution_count": 44,
      "outputs": [
        {
          "output_type": "stream",
          "name": "stdout",
          "text": [
            "+-----------+------------+------------+\n",
            "|customer_id|source_order|total_visits|\n",
            "+-----------+------------+------------+\n",
            "|          A|      Swiggy|          21|\n",
            "|          B|      Swiggy|          18|\n",
            "|          B|      zomato|          12|\n",
            "|          C|      zomato|           9|\n",
            "|          A|  Restaurant|           9|\n",
            "+-----------+------------+------------+\n",
            "only showing top 5 rows\n",
            "\n"
          ]
        }
      ]
    },
    {
      "cell_type": "code",
      "source": [
        "# Frequency of customer visited to Restaurant\n",
        "from pyspark.sql.functions import expr,col,isnan,when,count,regexp_replace,sum,desc,countDistinct\n",
        "total_visit_df = cust_prod_df.filter(col(\"source_order\")==\"Restaurant\").groupBy(\"customer_id\").agg(countDistinct(\"order_date\").alias(\"total_visits\"))\n",
        "total_visit_df = total_visit_df.orderBy(desc(\"total_visits\"))\n",
        "total_visit_df.show(5)"
      ],
      "metadata": {
        "id": "a0x_MMZIFxqU",
        "outputId": "c7841ccc-e89b-4d9b-eafb-e9a1b600a847",
        "colab": {
          "base_uri": "https://localhost:8080/"
        }
      },
      "execution_count": 46,
      "outputs": [
        {
          "output_type": "stream",
          "name": "stdout",
          "text": [
            "+-----------+------------+\n",
            "|customer_id|total_visits|\n",
            "+-----------+------------+\n",
            "|          B|           6|\n",
            "|          A|           6|\n",
            "|          E|           5|\n",
            "|          C|           3|\n",
            "|          D|           1|\n",
            "+-----------+------------+\n",
            "\n"
          ]
        }
      ]
    },
    {
      "cell_type": "code",
      "source": [
        "# Total sales by each country\n",
        "total_amount_df = cust_prod_df.groupBy(\"location\").agg(sum(\"price\").alias(\"total_amount\"))\n",
        "total_amount_df = total_amount_df.orderBy(desc(\"total_amount\"))\n",
        "total_amount_df.show(5)"
      ],
      "metadata": {
        "id": "1H3bzG8QkcMR",
        "outputId": "8628605c-5870-4b53-cf6e-18f7f836670a",
        "colab": {
          "base_uri": "https://localhost:8080/"
        }
      },
      "execution_count": 47,
      "outputs": [
        {
          "output_type": "stream",
          "name": "stdout",
          "text": [
            "+--------+------------+\n",
            "|location|total_amount|\n",
            "+--------+------------+\n",
            "|      UK|      7020.0|\n",
            "|   India|      4860.0|\n",
            "|     USA|      2460.0|\n",
            "+--------+------------+\n",
            "\n"
          ]
        }
      ]
    },
    {
      "cell_type": "code",
      "source": [
        "# Total sales by order source\n",
        "total_amount_df = cust_prod_df.groupBy(\"source_order\").agg(sum(\"price\").alias(\"total_amount\"))\n",
        "total_amount_df = total_amount_df.orderBy(desc(\"total_amount\"))\n",
        "total_amount_df.show(5)"
      ],
      "metadata": {
        "id": "JR-CF-UMkeTY",
        "outputId": "a398819a-60b2-46d4-c310-516700b75706",
        "colab": {
          "base_uri": "https://localhost:8080/"
        }
      },
      "execution_count": 48,
      "outputs": [
        {
          "output_type": "stream",
          "name": "stdout",
          "text": [
            "+------------+------------+\n",
            "|source_order|total_amount|\n",
            "+------------+------------+\n",
            "|      Swiggy|      6330.0|\n",
            "|      zomato|      4920.0|\n",
            "|  Restaurant|      3090.0|\n",
            "+------------+------------+\n",
            "\n"
          ]
        }
      ]
    },
    {
      "cell_type": "code",
      "source": [
        "# Total sales by order source and country\n",
        "total_amount_df = cust_prod_df.groupBy(\"source_order\",\"location\").agg(sum(\"price\").alias(\"total_amount\"))\n",
        "total_amount_df = total_amount_df.orderBy(desc(\"total_amount\"))\n",
        "total_amount_df.show(5)"
      ],
      "metadata": {
        "id": "HBpUfGVsHamC",
        "outputId": "0b5a67c1-be9c-4bcc-e0e7-7f808ff2c37d",
        "colab": {
          "base_uri": "https://localhost:8080/"
        }
      },
      "execution_count": 49,
      "outputs": [
        {
          "output_type": "stream",
          "name": "stdout",
          "text": [
            "+------------+--------+------------+\n",
            "|source_order|location|total_amount|\n",
            "+------------+--------+------------+\n",
            "|      Swiggy|      UK|      2910.0|\n",
            "|      Swiggy|   India|      2760.0|\n",
            "|  Restaurant|      UK|      2070.0|\n",
            "|      zomato|      UK|      2040.0|\n",
            "|      zomato|     USA|      1800.0|\n",
            "+------------+--------+------------+\n",
            "only showing top 5 rows\n",
            "\n"
          ]
        }
      ]
    }
  ],
  "metadata": {
    "colab": {
      "provenance": []
    },
    "kernelspec": {
      "display_name": "Python 3",
      "name": "python3"
    },
    "language_info": {
      "name": "python"
    }
  },
  "nbformat": 4,
  "nbformat_minor": 0
}