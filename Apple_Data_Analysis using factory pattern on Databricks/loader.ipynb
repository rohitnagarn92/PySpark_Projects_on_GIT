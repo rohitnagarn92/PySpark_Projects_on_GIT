{
 "cells": [
  {
   "cell_type": "code",
   "execution_count": 0,
   "metadata": {
    "application/vnd.databricks.v1+cell": {
     "cellMetadata": {
      "byteLimit": 2048000,
      "rowLimit": 10000
     },
     "inputWidgets": {},
     "nuid": "835318ab-7f14-4922-ad63-3e0628ed3bb9",
     "showTitle": false,
     "title": ""
    }
   },
   "outputs": [],
   "source": [
    "class AbstractLoader:\n",
    "    def __init__(self,transformedDF):\n",
    "        self.transformedDF = transformedDF\n",
    "\n",
    "    def sink(self):\n",
    "        pass\n",
    "\n",
    "class AirPodsAfterIphoneLoader(AbstractLoader):\n",
    "    def sink(self):\n",
    "        get_sink_source(sink_type=\"dbfs\",\n",
    "            df = self.transformedDF,\n",
    "            path =\"dbfs:/FileStore/tables/apple_analysis/output/airpodsAfterIphone\",\n",
    "            method = \"overwrite\").load_data_frame()\n",
    "        \n",
    "class AirPodsAndIphoneLoader(AbstractLoader):\n",
    "    def sink(self):\n",
    "        params={\"partitionByColumns\":[\"location\"]}\n",
    "        get_sink_source(sink_type=\"dbfs_with_partition\",\n",
    "            df = self.transformedDF,\n",
    "            path =\"dbfs:/FileStore/tables/apple_analysis/output/airpodsAndIphone\",\n",
    "            method = \"overwrite\",\n",
    "            params = params\n",
    "            ).load_data_frame()\n",
    "        get_sink_source(sink_type=\"delta\",\n",
    "            df = self.transformedDF,\n",
    "            path =\"default.onlyAirPodsAndIPhone\",\n",
    "            method = \"overwrite\",\n",
    "            params = params\n",
    "            ).load_data_frame()"
   ]
  }
 ],
 "metadata": {
  "application/vnd.databricks.v1+notebook": {
   "dashboards": [],
   "environmentMetadata": null,
   "language": "python",
   "notebookMetadata": {
    "pythonIndentUnit": 4
   },
   "notebookName": "loader",
   "widgets": {}
  }
 },
 "nbformat": 4,
 "nbformat_minor": 0
}
