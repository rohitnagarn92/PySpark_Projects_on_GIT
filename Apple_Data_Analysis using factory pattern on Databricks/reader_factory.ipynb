{
 "cells": [
  {
   "cell_type": "code",
   "execution_count": 0,
   "metadata": {
    "application/vnd.databricks.v1+cell": {
     "cellMetadata": {
      "byteLimit": 2048000,
      "rowLimit": 10000
     },
     "inputWidgets": {},
     "nuid": "69fc9486-863f-4bc6-b3d5-d4ae7d9b1127",
     "showTitle": false,
     "title": ""
    }
   },
   "outputs": [],
   "source": [
    "class DataSource:\n",
    "    \"\"\"\n",
    "    Abstract Class\n",
    "    \"\"\"\n",
    "    def __init__(self,path):\n",
    "        self.path=path\n",
    "\n",
    "    def get_data_frame(self):\n",
    "        \"\"\"\n",
    "        Abstract method, function will be defined in sub classes\n",
    "        \"\"\"\n",
    "        raise ValueError(\"Not Implemented\")\n",
    "\n",
    "class CSVDataSource(DataSource):\n",
    "    def get_data_frame(self):\n",
    "        return (spark.read.format(\"csv\").option(\"header\",\"True\").load(self.path))\n",
    "    \n",
    "class ParquetDataSource(DataSource):\n",
    "    def get_data_frame(self):\n",
    "        return (spark.read.format(\"parquet\").load(self.path))\n",
    "    \n",
    "class DeltaDataSource(DataSource):\n",
    "    def get_data_frame(self):\n",
    "        return (spark.read.format(\"delta\").table(self.path))\n",
    "        \n",
    "def get_data_source(data_type,file_path):\n",
    "    if data_type==\"csv\":\n",
    "        return CSVDataSource(file_path)\n",
    "    if data_type==\"parquet\":\n",
    "        return ParquetDataSource(file_path)\n",
    "    if data_type==\"delta\":\n",
    "        return DeltaDataSource(file_path)\n",
    "    else:\n",
    "        raise ValueError(f\"Not Implemented for data type : {data_type}\")"
   ]
  }
 ],
 "metadata": {
  "application/vnd.databricks.v1+notebook": {
   "dashboards": [],
   "environmentMetadata": null,
   "language": "python",
   "notebookMetadata": {
    "pythonIndentUnit": 4
   },
   "notebookName": "reader_factory",
   "widgets": {}
  }
 },
 "nbformat": 4,
 "nbformat_minor": 0
}
