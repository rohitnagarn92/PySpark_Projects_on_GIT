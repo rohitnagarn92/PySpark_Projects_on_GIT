{
 "cells": [
  {
   "cell_type": "code",
   "execution_count": 0,
   "metadata": {
    "application/vnd.databricks.v1+cell": {
     "cellMetadata": {
      "byteLimit": 2048000,
      "rowLimit": 10000
     },
     "inputWidgets": {},
     "nuid": "689289f3-71f0-4bf1-9e9b-3c6257b8fed5",
     "showTitle": false,
     "title": ""
    }
   },
   "outputs": [],
   "source": [
    "class Extractor:\n",
    "    def __init__(self):\n",
    "        pass\n",
    "\n",
    "    def extract(self):\n",
    "        pass\n",
    "\n",
    "class AirpodsAfterIphoneExtractor(Extractor):\n",
    "\n",
    "    def extract(self):\n",
    "        transactionInputDF = get_data_source(data_type=\"csv\",file_path=\"dbfs:/FileStore/tables/Transaction_Updated.csv\").get_data_frame()\n",
    "        customerInputDF = get_data_source(data_type=\"delta\",file_path=\"default.customer_updated_1_csv\").get_data_frame()\n",
    "        inputDF = {\"transactionInputDF\":transactionInputDF, \"customerInputDF\":customerInputDF}\n",
    "        return inputDF\n",
    "    \n",
    "\n",
    "class AirpodsAndIphoneExtractor(Extractor):\n",
    "\n",
    "    def extract(self):\n",
    "        transactionInputDF = get_data_source(data_type=\"csv\",file_path=\"dbfs:/FileStore/tables/Transaction_Updated.csv\").get_data_frame()\n",
    "        customerInputDF = get_data_source(data_type=\"delta\",file_path=\"default.customer_updated_1_csv\").get_data_frame()\n",
    "        inputDF = {\"transactionInputDF\":transactionInputDF, \"customerInputDF\":customerInputDF}\n",
    "        return inputDF"
   ]
  }
 ],
 "metadata": {
  "application/vnd.databricks.v1+notebook": {
   "dashboards": [],
   "environmentMetadata": null,
   "language": "python",
   "notebookMetadata": {
    "pythonIndentUnit": 4
   },
   "notebookName": "extractor",
   "widgets": {}
  }
 },
 "nbformat": 4,
 "nbformat_minor": 0
}
