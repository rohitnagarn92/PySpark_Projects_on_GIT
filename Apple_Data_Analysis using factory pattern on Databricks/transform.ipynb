{
 "cells": [
  {
   "cell_type": "code",
   "execution_count": 0,
   "metadata": {
    "application/vnd.databricks.v1+cell": {
     "cellMetadata": {
      "byteLimit": 2048000,
      "rowLimit": 10000
     },
     "inputWidgets": {},
     "nuid": "74ac227a-9044-4b51-88bf-52479a1a4847",
     "showTitle": false,
     "title": ""
    }
   },
   "outputs": [],
   "source": [
    "from pyspark.sql.window import Window\n",
    "from pyspark.sql.functions import lead, col, broadcast, collect_set, size, array_contains\n",
    "class Transformer:\n",
    "\n",
    "    def __init__(self):\n",
    "        pass\n",
    "\n",
    "    def transform(self,inputDF):\n",
    "        pass\n",
    "\n",
    "class AirpodaAfterIphone(Transformer):\n",
    "\n",
    "    def transform(self,inputDF):\n",
    "        transactionInputDF = inputDF.get(\"transactionInputDF\")\n",
    "        # transactionInputDF.show(5)\n",
    "        window = Window.partitionBy(\"customer_id\").orderBy(\"transaction_date\")\n",
    "        transformedDF = transactionInputDF.withColumn(\"next_product\",lead(\"product_name\").over(window))\n",
    "        # print(\"transformed transaction dataframe\")\n",
    "        # transformedDF.orderBy(\"customer_id\",\"transaction_date\",\"product_name\").show(5)\n",
    "        # print(\"transformed final transaction dataframe\")\n",
    "        filteredDF=transformedDF.filter((col(\"product_name\")==\"iPhone\") & (col(\"next_product\")==\"AirPods\"))\n",
    "        # filteredDF.orderBy(\"customer_id\",\"transaction_date\",\"product_name\").show(5)\n",
    "\n",
    "        customerInputDF = inputDF.get(\"customerInputDF\")\n",
    "        #print(customerInputDF)\n",
    "        # joinDF = filteredDF.join(customerInputDF,\"customer_id\")\n",
    "        # use Broadcast Join\n",
    "        #print(joinDF)\n",
    "        joinDF = customerInputDF.join(broadcast(filteredDF),\"customer_id\")\n",
    "        return joinDF.select(\"customer_id\",\"customer_name\",\"location\")\n",
    "    \n",
    "class OnlyAirpodsAndIphone(Transformer):\n",
    "\n",
    "    def transform(self,inputDF):\n",
    "        \"\"\"\n",
    "        customer who have bought only IPhone and Airpods only\n",
    "        \"\"\"\n",
    "        transactionInputDF = inputDF.get(\"transactionInputDF\")\n",
    "        groupedDF = transactionInputDF.groupBy(\"customer_id\").agg(collect_set(\"product_name\").alias(\"products\"))\n",
    "        groupedDF.show()\n",
    "\n",
    "        filteredDF = groupedDF.filter( \n",
    "                                      (array_contains(col(\"products\"),\"iPhone\") ) & \n",
    "                                      (array_contains(col(\"products\"),\"AirPods\") ) &\n",
    "                                      (size(col(\"products\"))==2) \n",
    "                                    )\n",
    "        print(\"filteredDF having only AirPods and IPhones\")\n",
    "        filteredDF.show()\n",
    "\n",
    "        customerInputDF = inputDF.get(\"customerInputDF\")\n",
    "        # joinDF = filteredDF.join(customerInputDF,\"customer_id\")\n",
    "        # use Broadcast Join\n",
    "        #print(joinDF)\n",
    "        joinDF = customerInputDF.join(broadcast(filteredDF),\"customer_id\")\n",
    "        return joinDF.select(\"customer_id\",\"customer_name\",\"location\")"
   ]
  }
 ],
 "metadata": {
  "application/vnd.databricks.v1+notebook": {
   "dashboards": [],
   "environmentMetadata": null,
   "language": "python",
   "notebookMetadata": {
    "pythonIndentUnit": 4
   },
   "notebookName": "transform",
   "widgets": {}
  }
 },
 "nbformat": 4,
 "nbformat_minor": 0
}
