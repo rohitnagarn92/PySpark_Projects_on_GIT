{
 "cells": [
  {
   "cell_type": "code",
   "execution_count": 0,
   "metadata": {
    "application/vnd.databricks.v1+cell": {
     "cellMetadata": {
      "byteLimit": 2048000,
      "rowLimit": 10000
     },
     "inputWidgets": {},
     "nuid": "e9bdef73-4a65-4e07-a990-7914a696de97",
     "showTitle": false,
     "title": ""
    }
   },
   "outputs": [],
   "source": [
    "class DataSink:\n",
    "    \"\"\"\n",
    "    Abstract Class\n",
    "    \"\"\"\n",
    "    def __init__(self,df, path, method, params):\n",
    "        self.df = df\n",
    "        self.path = path\n",
    "        self.method = method\n",
    "        self.params = params\n",
    "\n",
    "    def load_data_frame(self):\n",
    "        \"\"\"\n",
    "        Abstract method, function will be defined in sub classes\n",
    "        \"\"\"\n",
    "        raise ValueError(\"Not Implemented\")\n",
    "\n",
    "class LoadtoDBFS(DataSink):\n",
    "    def load_data_frame(self):\n",
    "        self.df.write.mode(self.method).save(self.path)\n",
    "\n",
    "class LoadtoDBFS_withPartition(DataSink):\n",
    "    def load_data_frame(self):\n",
    "        partitionByColumns = self.params.get(\"partitionByColumns\")\n",
    "        self.df.write.mode(self.method).partitionBy(*partitionByColumns).save(self.path)\n",
    "\n",
    "class LoadtoDeltaTable(DataSink):\n",
    "    def load_data_frame(self):\n",
    "        \n",
    "        self.df.write.format(\"delta\").mode(self.method).saveAsTable(self.path)\n",
    "        \n",
    "def get_sink_source(sink_type, df, path, method, params=None):\n",
    "    if sink_type==\"dbfs\":\n",
    "        return LoadtoDBFS(df, path, method, params)\n",
    "    if sink_type==\"dbfs_with_partition\":\n",
    "        return LoadtoDBFS_withPartition(df, path, method, params)\n",
    "    if sink_type==\"delta\":\n",
    "        return LoadtoDeltaTable(df, path, method, params)\n",
    "    else:\n",
    "        raise ValueError(f\"Not Implemented for data type : {sink_type}\")"
   ]
  }
 ],
 "metadata": {
  "application/vnd.databricks.v1+notebook": {
   "dashboards": [],
   "environmentMetadata": null,
   "language": "python",
   "notebookMetadata": {
    "pythonIndentUnit": 4
   },
   "notebookName": "loader_factory",
   "widgets": {}
  }
 },
 "nbformat": 4,
 "nbformat_minor": 0
}
