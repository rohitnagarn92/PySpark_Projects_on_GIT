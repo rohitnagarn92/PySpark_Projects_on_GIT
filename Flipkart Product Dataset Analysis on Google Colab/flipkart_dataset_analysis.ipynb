{
  "cells": [
    {
      "cell_type": "code",
      "source": [
        "!pip install pyspark findspark\n",
        "import findspark\n",
        "findspark.init()\n"
      ],
      "metadata": {
        "colab": {
          "base_uri": "https://localhost:8080/"
        },
        "id": "6wZCzaBBjI4F",
        "outputId": "03f76ec6-685a-4dea-cc36-b7b782becf35"
      },
      "execution_count": 1,
      "outputs": [
        {
          "output_type": "stream",
          "name": "stdout",
          "text": [
            "Collecting pyspark\n",
            "  Downloading pyspark-3.5.2.tar.gz (317.3 MB)\n",
            "\u001b[2K     \u001b[90m━━━━━━━━━━━━━━━━━━━━━━━━━━━━━━━━━━━━━━━━\u001b[0m \u001b[32m317.3/317.3 MB\u001b[0m \u001b[31m3.5 MB/s\u001b[0m eta \u001b[36m0:00:00\u001b[0m\n",
            "\u001b[?25h  Preparing metadata (setup.py) ... \u001b[?25l\u001b[?25hdone\n",
            "Collecting findspark\n",
            "  Downloading findspark-2.0.1-py2.py3-none-any.whl.metadata (352 bytes)\n",
            "Requirement already satisfied: py4j==0.10.9.7 in /usr/local/lib/python3.10/dist-packages (from pyspark) (0.10.9.7)\n",
            "Downloading findspark-2.0.1-py2.py3-none-any.whl (4.4 kB)\n",
            "Building wheels for collected packages: pyspark\n",
            "  Building wheel for pyspark (setup.py) ... \u001b[?25l\u001b[?25hdone\n",
            "  Created wheel for pyspark: filename=pyspark-3.5.2-py2.py3-none-any.whl size=317812365 sha256=563b2fc0dfa5df3562ed86852d78a3d741f727ebd7aeda3f6b9bf43e337aaaba\n",
            "  Stored in directory: /root/.cache/pip/wheels/34/34/bd/03944534c44b677cd5859f248090daa9fb27b3c8f8e5f49574\n",
            "Successfully built pyspark\n",
            "Installing collected packages: findspark, pyspark\n",
            "Successfully installed findspark-2.0.1 pyspark-3.5.2\n"
          ]
        }
      ]
    },
    {
      "cell_type": "code",
      "source": [
        "from pyspark.sql.functions import expr\n",
        "from pyspark.sql.functions import col,isnan,when,count\n",
        "from pyspark.sql.functions import *\n",
        "from pyspark.sql import SparkSession\n",
        "spark = SparkSession.builder.appName(\"flipkart_project\").getOrCreate()"
      ],
      "metadata": {
        "id": "8wuxjUAGiwus"
      },
      "execution_count": 2,
      "outputs": []
    },
    {
      "cell_type": "code",
      "source": [
        "from google.colab import files\n",
        "uploaded = files.upload()\n"
      ],
      "metadata": {
        "colab": {
          "base_uri": "https://localhost:8080/",
          "height": 73
        },
        "id": "ggYpkIUGjvI4",
        "outputId": "45cfb345-7a9a-49dc-94ca-14b783ac8a6f"
      },
      "execution_count": 3,
      "outputs": [
        {
          "output_type": "display_data",
          "data": {
            "text/plain": [
              "<IPython.core.display.HTML object>"
            ],
            "text/html": [
              "\n",
              "     <input type=\"file\" id=\"files-68fb3ed1-137e-44b9-9f72-74b67a4ca600\" name=\"files[]\" multiple disabled\n",
              "        style=\"border:none\" />\n",
              "     <output id=\"result-68fb3ed1-137e-44b9-9f72-74b67a4ca600\">\n",
              "      Upload widget is only available when the cell has been executed in the\n",
              "      current browser session. Please rerun this cell to enable.\n",
              "      </output>\n",
              "      <script>// Copyright 2017 Google LLC\n",
              "//\n",
              "// Licensed under the Apache License, Version 2.0 (the \"License\");\n",
              "// you may not use this file except in compliance with the License.\n",
              "// You may obtain a copy of the License at\n",
              "//\n",
              "//      http://www.apache.org/licenses/LICENSE-2.0\n",
              "//\n",
              "// Unless required by applicable law or agreed to in writing, software\n",
              "// distributed under the License is distributed on an \"AS IS\" BASIS,\n",
              "// WITHOUT WARRANTIES OR CONDITIONS OF ANY KIND, either express or implied.\n",
              "// See the License for the specific language governing permissions and\n",
              "// limitations under the License.\n",
              "\n",
              "/**\n",
              " * @fileoverview Helpers for google.colab Python module.\n",
              " */\n",
              "(function(scope) {\n",
              "function span(text, styleAttributes = {}) {\n",
              "  const element = document.createElement('span');\n",
              "  element.textContent = text;\n",
              "  for (const key of Object.keys(styleAttributes)) {\n",
              "    element.style[key] = styleAttributes[key];\n",
              "  }\n",
              "  return element;\n",
              "}\n",
              "\n",
              "// Max number of bytes which will be uploaded at a time.\n",
              "const MAX_PAYLOAD_SIZE = 100 * 1024;\n",
              "\n",
              "function _uploadFiles(inputId, outputId) {\n",
              "  const steps = uploadFilesStep(inputId, outputId);\n",
              "  const outputElement = document.getElementById(outputId);\n",
              "  // Cache steps on the outputElement to make it available for the next call\n",
              "  // to uploadFilesContinue from Python.\n",
              "  outputElement.steps = steps;\n",
              "\n",
              "  return _uploadFilesContinue(outputId);\n",
              "}\n",
              "\n",
              "// This is roughly an async generator (not supported in the browser yet),\n",
              "// where there are multiple asynchronous steps and the Python side is going\n",
              "// to poll for completion of each step.\n",
              "// This uses a Promise to block the python side on completion of each step,\n",
              "// then passes the result of the previous step as the input to the next step.\n",
              "function _uploadFilesContinue(outputId) {\n",
              "  const outputElement = document.getElementById(outputId);\n",
              "  const steps = outputElement.steps;\n",
              "\n",
              "  const next = steps.next(outputElement.lastPromiseValue);\n",
              "  return Promise.resolve(next.value.promise).then((value) => {\n",
              "    // Cache the last promise value to make it available to the next\n",
              "    // step of the generator.\n",
              "    outputElement.lastPromiseValue = value;\n",
              "    return next.value.response;\n",
              "  });\n",
              "}\n",
              "\n",
              "/**\n",
              " * Generator function which is called between each async step of the upload\n",
              " * process.\n",
              " * @param {string} inputId Element ID of the input file picker element.\n",
              " * @param {string} outputId Element ID of the output display.\n",
              " * @return {!Iterable<!Object>} Iterable of next steps.\n",
              " */\n",
              "function* uploadFilesStep(inputId, outputId) {\n",
              "  const inputElement = document.getElementById(inputId);\n",
              "  inputElement.disabled = false;\n",
              "\n",
              "  const outputElement = document.getElementById(outputId);\n",
              "  outputElement.innerHTML = '';\n",
              "\n",
              "  const pickedPromise = new Promise((resolve) => {\n",
              "    inputElement.addEventListener('change', (e) => {\n",
              "      resolve(e.target.files);\n",
              "    });\n",
              "  });\n",
              "\n",
              "  const cancel = document.createElement('button');\n",
              "  inputElement.parentElement.appendChild(cancel);\n",
              "  cancel.textContent = 'Cancel upload';\n",
              "  const cancelPromise = new Promise((resolve) => {\n",
              "    cancel.onclick = () => {\n",
              "      resolve(null);\n",
              "    };\n",
              "  });\n",
              "\n",
              "  // Wait for the user to pick the files.\n",
              "  const files = yield {\n",
              "    promise: Promise.race([pickedPromise, cancelPromise]),\n",
              "    response: {\n",
              "      action: 'starting',\n",
              "    }\n",
              "  };\n",
              "\n",
              "  cancel.remove();\n",
              "\n",
              "  // Disable the input element since further picks are not allowed.\n",
              "  inputElement.disabled = true;\n",
              "\n",
              "  if (!files) {\n",
              "    return {\n",
              "      response: {\n",
              "        action: 'complete',\n",
              "      }\n",
              "    };\n",
              "  }\n",
              "\n",
              "  for (const file of files) {\n",
              "    const li = document.createElement('li');\n",
              "    li.append(span(file.name, {fontWeight: 'bold'}));\n",
              "    li.append(span(\n",
              "        `(${file.type || 'n/a'}) - ${file.size} bytes, ` +\n",
              "        `last modified: ${\n",
              "            file.lastModifiedDate ? file.lastModifiedDate.toLocaleDateString() :\n",
              "                                    'n/a'} - `));\n",
              "    const percent = span('0% done');\n",
              "    li.appendChild(percent);\n",
              "\n",
              "    outputElement.appendChild(li);\n",
              "\n",
              "    const fileDataPromise = new Promise((resolve) => {\n",
              "      const reader = new FileReader();\n",
              "      reader.onload = (e) => {\n",
              "        resolve(e.target.result);\n",
              "      };\n",
              "      reader.readAsArrayBuffer(file);\n",
              "    });\n",
              "    // Wait for the data to be ready.\n",
              "    let fileData = yield {\n",
              "      promise: fileDataPromise,\n",
              "      response: {\n",
              "        action: 'continue',\n",
              "      }\n",
              "    };\n",
              "\n",
              "    // Use a chunked sending to avoid message size limits. See b/62115660.\n",
              "    let position = 0;\n",
              "    do {\n",
              "      const length = Math.min(fileData.byteLength - position, MAX_PAYLOAD_SIZE);\n",
              "      const chunk = new Uint8Array(fileData, position, length);\n",
              "      position += length;\n",
              "\n",
              "      const base64 = btoa(String.fromCharCode.apply(null, chunk));\n",
              "      yield {\n",
              "        response: {\n",
              "          action: 'append',\n",
              "          file: file.name,\n",
              "          data: base64,\n",
              "        },\n",
              "      };\n",
              "\n",
              "      let percentDone = fileData.byteLength === 0 ?\n",
              "          100 :\n",
              "          Math.round((position / fileData.byteLength) * 100);\n",
              "      percent.textContent = `${percentDone}% done`;\n",
              "\n",
              "    } while (position < fileData.byteLength);\n",
              "  }\n",
              "\n",
              "  // All done.\n",
              "  yield {\n",
              "    response: {\n",
              "      action: 'complete',\n",
              "    }\n",
              "  };\n",
              "}\n",
              "\n",
              "scope.google = scope.google || {};\n",
              "scope.google.colab = scope.google.colab || {};\n",
              "scope.google.colab._files = {\n",
              "  _uploadFiles,\n",
              "  _uploadFilesContinue,\n",
              "};\n",
              "})(self);\n",
              "</script> "
            ]
          },
          "metadata": {}
        },
        {
          "output_type": "stream",
          "name": "stdout",
          "text": [
            "Saving flipkar_dataset.csv to flipkar_dataset.csv\n"
          ]
        }
      ]
    },
    {
      "cell_type": "code",
      "source": [
        "file_name = list(uploaded.keys())[0]\n",
        "\n",
        "# Read the CSV file using PySpark\n",
        "flipkart_df = spark.read.csv(file_name, header=True, inferSchema=True)\n",
        "\n",
        "# Display the data (use show() instead of display)\n",
        "flipkart_df.show(2)"
      ],
      "metadata": {
        "colab": {
          "base_uri": "https://localhost:8080/"
        },
        "id": "iZ_VtmqIkUzB",
        "outputId": "a1ac656a-810c-4b2a-d095-192b75d219aa"
      },
      "execution_count": 4,
      "outputs": [
        {
          "output_type": "stream",
          "name": "stdout",
          "text": [
            "+-----+--------------------+------+---------+--------+------+-----+--------+---------+----------+-------+-------+-------+-------+-------+----------+\n",
            "|   id|        Product_name|Rating|maincateg|platform|price1|Price|Discount|norating1|noreviews1|star_5f|star_4f|star_3f|star_2f|star_1f|fulfilled1|\n",
            "+-----+--------------------+------+---------+--------+------+-----+--------+---------+----------+-------+-------+-------+-------+-------+----------+\n",
            "|16695|Fashionable & Com...|   3.9|    Women|Flipkart|   698|  999|  30.13%|       38|         7|     17|      9|      6|      3|      3|         0|\n",
            "| 5120|Combo Pack of 4 C...|   3.8|      Men|Flipkart|   999| 1999|  50.03%|      531|        69|    264|     92|     73|     29|     73|         1|\n",
            "+-----+--------------------+------+---------+--------+------+-----+--------+---------+----------+-------+-------+-------+-------+-------+----------+\n",
            "only showing top 2 rows\n",
            "\n"
          ]
        }
      ]
    },
    {
      "cell_type": "code",
      "source": [
        "flipkart_df.printSchema()\n",
        "\n",
        "flipkart_df.describe().show(2)"
      ],
      "metadata": {
        "colab": {
          "base_uri": "https://localhost:8080/"
        },
        "id": "mCEqOcselHu_",
        "outputId": "586dfbad-d75a-4dac-81f1-7471f66301eb"
      },
      "execution_count": 5,
      "outputs": [
        {
          "output_type": "stream",
          "name": "stdout",
          "text": [
            "root\n",
            " |-- id: integer (nullable = true)\n",
            " |-- Product_name: string (nullable = true)\n",
            " |-- Rating: double (nullable = true)\n",
            " |-- maincateg: string (nullable = true)\n",
            " |-- platform: string (nullable = true)\n",
            " |-- price1: integer (nullable = true)\n",
            " |-- Price: integer (nullable = true)\n",
            " |-- Discount: string (nullable = true)\n",
            " |-- norating1: integer (nullable = true)\n",
            " |-- noreviews1: integer (nullable = true)\n",
            " |-- star_5f: integer (nullable = true)\n",
            " |-- star_4f: integer (nullable = true)\n",
            " |-- star_3f: integer (nullable = true)\n",
            " |-- star_2f: integer (nullable = true)\n",
            " |-- star_1f: integer (nullable = true)\n",
            " |-- fulfilled1: integer (nullable = true)\n",
            "\n",
            "+-------+------------------+------------+-----------------+---------+--------+-----------------+------------------+--------+------------------+------------------+------------------+-----------------+------------------+----------------+-----------------+------------------+\n",
            "|summary|                id|Product_name|           Rating|maincateg|platform|           price1|             Price|Discount|         norating1|        noreviews1|           star_5f|          star_4f|           star_3f|         star_2f|          star_1f|        fulfilled1|\n",
            "+-------+------------------+------------+-----------------+---------+--------+-----------------+------------------+--------+------------------+------------------+------------------+-----------------+------------------+----------------+-----------------+------------------+\n",
            "|  count|             15730|       15730|            15730|    15204|   15730|            15730|             15730|   15730|             15052|             15152|             15142|            15191|             15499|           15730|            15730|             15730|\n",
            "|   mean|10479.541576605214|        NULL|4.012873490146164|     NULL|    NULL|688.0706929434202|1369.2867768595042|    NULL|3057.6607759766143|423.97630675818374|1585.2394663848897|655.9233098545192|357.26066197819216|155.085187539733|275.5005721551176|0.6015257469802925|\n",
            "+-------+------------------+------------+-----------------+---------+--------+-----------------+------------------+--------+------------------+------------------+------------------+-----------------+------------------+----------------+-----------------+------------------+\n",
            "only showing top 2 rows\n",
            "\n"
          ]
        }
      ]
    },
    {
      "cell_type": "code",
      "source": [
        "#handling the missing data\n",
        "flipkart_df.select([count(when(col(c).isNull(), c)).alias(c) for c in flipkart_df.columns]).show()\n",
        "\n"
      ],
      "metadata": {
        "colab": {
          "base_uri": "https://localhost:8080/"
        },
        "id": "2pshd0NVlzp3",
        "outputId": "e2128441-8501-42e4-861d-e8c597d42adb"
      },
      "execution_count": 6,
      "outputs": [
        {
          "output_type": "stream",
          "name": "stdout",
          "text": [
            "+---+------------+------+---------+--------+------+-----+--------+---------+----------+-------+-------+-------+-------+-------+----------+\n",
            "| id|Product_name|Rating|maincateg|platform|price1|Price|Discount|norating1|noreviews1|star_5f|star_4f|star_3f|star_2f|star_1f|fulfilled1|\n",
            "+---+------------+------+---------+--------+------+-----+--------+---------+----------+-------+-------+-------+-------+-------+----------+\n",
            "|  0|           0|     0|      526|       0|     0|    0|       0|      678|       578|    588|    539|    231|      0|      0|         0|\n",
            "+---+------------+------+---------+--------+------+-----+--------+---------+----------+-------+-------+-------+-------+-------+----------+\n",
            "\n"
          ]
        }
      ]
    },
    {
      "cell_type": "code",
      "source": [
        "#drop the rows that is missing\n",
        "flipkart_df_clean=flipkart_df.dropna()\n",
        "\n",
        "#filling specific values to the nan columns or missing columns\n",
        "flipkart_df_filled=flipkart_df.fillna({\"maincateg\":\"Men\",\"norating1\":0,\"noreviews1\":0,\"star_5f\":0,\"star_4f\":0,\"star_3f\":0})"
      ],
      "metadata": {
        "id": "vaLdBQ9UrA4l"
      },
      "execution_count": 7,
      "outputs": []
    },
    {
      "cell_type": "code",
      "source": [
        "#Data Transformation\n",
        "\n",
        "# Calculate the effective price after discount\n",
        "flipkart_df_transformed = flipkart_df.withColumn(\"EffectivePrice\", expr(\"Price - (Price * Discount / 100)\"))\n",
        "\n",
        "# Show the updated DataFrame\n",
        "flipkart_df_transformed.select(\"Product_name\", \"Price\", \"Discount\", \"EffectivePrice\").show(5)"
      ],
      "metadata": {
        "colab": {
          "base_uri": "https://localhost:8080/"
        },
        "id": "-kH8JsqzrLVV",
        "outputId": "242d49a1-649d-4c11-a625-ebfdba1817d0"
      },
      "execution_count": 8,
      "outputs": [
        {
          "output_type": "stream",
          "name": "stdout",
          "text": [
            "+--------------------+-----+--------+--------------+\n",
            "|        Product_name|Price|Discount|EffectivePrice|\n",
            "+--------------------+-----+--------+--------------+\n",
            "|Fashionable & Com...|  999|  30.13%|          NULL|\n",
            "|Combo Pack of 4 C...| 1999|  50.03%|          NULL|\n",
            "|Cilia Mode Leo Sn...| 4999|  45.01%|          NULL|\n",
            "|Men Black Sports ...|  724|  15.85%|          NULL|\n",
            "|Men Green Sports ...| 2299|  40.02%|          NULL|\n",
            "+--------------------+-----+--------+--------------+\n",
            "only showing top 5 rows\n",
            "\n"
          ]
        }
      ]
    },
    {
      "cell_type": "code",
      "source": [
        "from pyspark.sql.functions import regexp_replace, col, expr\n",
        "\n",
        "# Remove the '%' symbol from the 'Discount' column and cast it to float\n",
        "flipkart_df_cleaned = flipkart_df.withColumn(\"Discount\", regexp_replace(col(\"Discount\"), \"%\", \"\").cast(\"float\"))\n",
        "\n",
        "# Calculate the EffectivePrice by applying the discount\n",
        "flipkart_df_transformed = flipkart_df_cleaned.withColumn(\"EffectivePrice\", expr(\"Price - (Price * Discount / 100)\"))\n",
        "\n",
        "# Show the updated DataFrame\n",
        "flipkart_df_transformed.select(\"Product_name\", \"Price\", \"Discount\", \"EffectivePrice\").show(5)"
      ],
      "metadata": {
        "colab": {
          "base_uri": "https://localhost:8080/"
        },
        "id": "7UugTlppyTJE",
        "outputId": "cee9e4aa-410c-4134-8625-2e01957718ba"
      },
      "execution_count": 9,
      "outputs": [
        {
          "output_type": "stream",
          "name": "stdout",
          "text": [
            "+--------------------+-----+--------+-----------------+\n",
            "|        Product_name|Price|Discount|   EffectivePrice|\n",
            "+--------------------+-----+--------+-----------------+\n",
            "|Fashionable & Com...|  999|   30.13|698.0013085937501|\n",
            "|Combo Pack of 4 C...| 1999|   50.03|      998.9003125|\n",
            "|Cilia Mode Leo Sn...| 4999|   45.01|    2748.95015625|\n",
            "|Men Black Sports ...|  724|   15.85|  609.24599609375|\n",
            "|Men Green Sports ...| 2299|   40.02|    1378.94015625|\n",
            "+--------------------+-----+--------+-----------------+\n",
            "only showing top 5 rows\n",
            "\n"
          ]
        }
      ]
    },
    {
      "cell_type": "code",
      "source": [
        "#group by the category and calculte the average rating\n",
        "\n",
        "avg_rating_by_category=flipkart_df_filled.groupBy(\"maincateg\").agg(avg(\"Rating\"))\n",
        "avg_rating_by_category.show()"
      ],
      "metadata": {
        "colab": {
          "base_uri": "https://localhost:8080/"
        },
        "id": "nmbe6TkGys0M",
        "outputId": "14f40820-3af3-4471-f4ac-693797b38ab5"
      },
      "execution_count": 10,
      "outputs": [
        {
          "output_type": "stream",
          "name": "stdout",
          "text": [
            "+---------+------------------+\n",
            "|maincateg|       avg(Rating)|\n",
            "+---------+------------------+\n",
            "|      Men|3.9687724852496715|\n",
            "|    Women| 4.047773602095407|\n",
            "+---------+------------------+\n",
            "\n"
          ]
        }
      ]
    },
    {
      "cell_type": "code",
      "source": [
        "#Total  Revenue by category\n",
        "\n",
        "total_revenue_by_category=flipkart_df_filled.groupBy(\"maincateg\").sum(\"Rating\")\n",
        "total_revenue_by_category.show()"
      ],
      "metadata": {
        "colab": {
          "base_uri": "https://localhost:8080/"
        },
        "id": "eo3kw7JGy7-9",
        "outputId": "573081e3-087e-4af4-a405-4d7e2663a08e"
      },
      "execution_count": 11,
      "outputs": [
        {
          "output_type": "stream",
          "name": "stdout",
          "text": [
            "+---------+------------------+\n",
            "|maincateg|       sum(Rating)|\n",
            "+---------+------------------+\n",
            "|      Men|27578.999999999967|\n",
            "|    Women| 35543.49999999977|\n",
            "+---------+------------------+\n",
            "\n"
          ]
        }
      ]
    },
    {
      "cell_type": "code",
      "source": [
        "# Write the DataFrame to a CSV file\n",
        "flipkart_df_transformed.write.csv(\"/content/flipkart_results.csv\", header=True, mode=\"overwrite\")\n"
      ],
      "metadata": {
        "id": "y2RMDXUDzO5u"
      },
      "execution_count": 12,
      "outputs": []
    }
  ],
  "metadata": {
    "colab": {
      "provenance": []
    },
    "kernelspec": {
      "display_name": "Python 3",
      "name": "python3"
    },
    "language_info": {
      "name": "python"
    }
  },
  "nbformat": 4,
  "nbformat_minor": 0
}